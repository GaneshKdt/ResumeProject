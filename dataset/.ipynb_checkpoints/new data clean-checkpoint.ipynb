{
 "cells": [
  {
   "cell_type": "code",
   "execution_count": 1,
   "id": "a376da8d",
   "metadata": {},
   "outputs": [],
   "source": [
    "import pandas as pd\n",
    "\n",
    "import warnings\n",
    "warnings.filterwarnings('ignore')       # to ignore warnings"
   ]
  },
  {
   "cell_type": "code",
   "execution_count": 2,
   "id": "538cbce7",
   "metadata": {},
   "outputs": [],
   "source": [
    "loan_df=pd.read_csv('lending_club_loans.csv',header=1)\n",
    "data_dict_df=pd.read_csv('LCDataDictionary.csv')"
   ]
  },
  {
   "cell_type": "code",
   "execution_count": 3,
   "id": "48e5b9b5",
   "metadata": {},
   "outputs": [],
   "source": [
    "pd.set_option(\"display.max_columns\", None)      # to see all columns together"
   ]
  },
  {
   "cell_type": "code",
   "execution_count": 4,
   "id": "c1e1cda8",
   "metadata": {},
   "outputs": [
    {
     "data": {
      "text/plain": [
       "(42538, 115)"
      ]
     },
     "execution_count": 4,
     "metadata": {},
     "output_type": "execute_result"
    }
   ],
   "source": [
    "loan_df.shape"
   ]
  },
  {
   "cell_type": "code",
   "execution_count": 5,
   "id": "8d5c4977",
   "metadata": {},
   "outputs": [
    {
     "data": {
      "text/html": [
       "<div>\n",
       "<style scoped>\n",
       "    .dataframe tbody tr th:only-of-type {\n",
       "        vertical-align: middle;\n",
       "    }\n",
       "\n",
       "    .dataframe tbody tr th {\n",
       "        vertical-align: top;\n",
       "    }\n",
       "\n",
       "    .dataframe thead th {\n",
       "        text-align: right;\n",
       "    }\n",
       "</style>\n",
       "<table border=\"1\" class=\"dataframe\">\n",
       "  <thead>\n",
       "    <tr style=\"text-align: right;\">\n",
       "      <th></th>\n",
       "      <th>id</th>\n",
       "      <th>member_id</th>\n",
       "      <th>loan_amnt</th>\n",
       "      <th>funded_amnt</th>\n",
       "      <th>funded_amnt_inv</th>\n",
       "      <th>term</th>\n",
       "      <th>int_rate</th>\n",
       "      <th>installment</th>\n",
       "      <th>grade</th>\n",
       "      <th>sub_grade</th>\n",
       "      <th>emp_title</th>\n",
       "      <th>emp_length</th>\n",
       "      <th>home_ownership</th>\n",
       "      <th>annual_inc</th>\n",
       "      <th>verification_status</th>\n",
       "      <th>issue_d</th>\n",
       "      <th>loan_status</th>\n",
       "      <th>pymnt_plan</th>\n",
       "      <th>url</th>\n",
       "      <th>desc</th>\n",
       "      <th>purpose</th>\n",
       "      <th>title</th>\n",
       "      <th>zip_code</th>\n",
       "      <th>addr_state</th>\n",
       "      <th>dti</th>\n",
       "      <th>delinq_2yrs</th>\n",
       "      <th>earliest_cr_line</th>\n",
       "      <th>fico_range_low</th>\n",
       "      <th>fico_range_high</th>\n",
       "      <th>inq_last_6mths</th>\n",
       "      <th>mths_since_last_delinq</th>\n",
       "      <th>mths_since_last_record</th>\n",
       "      <th>open_acc</th>\n",
       "      <th>pub_rec</th>\n",
       "      <th>revol_bal</th>\n",
       "      <th>revol_util</th>\n",
       "      <th>total_acc</th>\n",
       "      <th>initial_list_status</th>\n",
       "      <th>out_prncp</th>\n",
       "      <th>out_prncp_inv</th>\n",
       "      <th>total_pymnt</th>\n",
       "      <th>total_pymnt_inv</th>\n",
       "      <th>total_rec_prncp</th>\n",
       "      <th>total_rec_int</th>\n",
       "      <th>total_rec_late_fee</th>\n",
       "      <th>recoveries</th>\n",
       "      <th>collection_recovery_fee</th>\n",
       "      <th>last_pymnt_d</th>\n",
       "      <th>last_pymnt_amnt</th>\n",
       "      <th>next_pymnt_d</th>\n",
       "      <th>last_credit_pull_d</th>\n",
       "      <th>last_fico_range_high</th>\n",
       "      <th>last_fico_range_low</th>\n",
       "      <th>collections_12_mths_ex_med</th>\n",
       "      <th>mths_since_last_major_derog</th>\n",
       "      <th>policy_code</th>\n",
       "      <th>application_type</th>\n",
       "      <th>annual_inc_joint</th>\n",
       "      <th>dti_joint</th>\n",
       "      <th>verification_status_joint</th>\n",
       "      <th>acc_now_delinq</th>\n",
       "      <th>tot_coll_amt</th>\n",
       "      <th>tot_cur_bal</th>\n",
       "      <th>open_acc_6m</th>\n",
       "      <th>open_il_6m</th>\n",
       "      <th>open_il_12m</th>\n",
       "      <th>open_il_24m</th>\n",
       "      <th>mths_since_rcnt_il</th>\n",
       "      <th>total_bal_il</th>\n",
       "      <th>il_util</th>\n",
       "      <th>open_rv_12m</th>\n",
       "      <th>open_rv_24m</th>\n",
       "      <th>max_bal_bc</th>\n",
       "      <th>all_util</th>\n",
       "      <th>total_rev_hi_lim</th>\n",
       "      <th>inq_fi</th>\n",
       "      <th>total_cu_tl</th>\n",
       "      <th>inq_last_12m</th>\n",
       "      <th>acc_open_past_24mths</th>\n",
       "      <th>avg_cur_bal</th>\n",
       "      <th>bc_open_to_buy</th>\n",
       "      <th>bc_util</th>\n",
       "      <th>chargeoff_within_12_mths</th>\n",
       "      <th>delinq_amnt</th>\n",
       "      <th>mo_sin_old_il_acct</th>\n",
       "      <th>mo_sin_old_rev_tl_op</th>\n",
       "      <th>mo_sin_rcnt_rev_tl_op</th>\n",
       "      <th>mo_sin_rcnt_tl</th>\n",
       "      <th>mort_acc</th>\n",
       "      <th>mths_since_recent_bc</th>\n",
       "      <th>mths_since_recent_bc_dlq</th>\n",
       "      <th>mths_since_recent_inq</th>\n",
       "      <th>mths_since_recent_revol_delinq</th>\n",
       "      <th>num_accts_ever_120_pd</th>\n",
       "      <th>num_actv_bc_tl</th>\n",
       "      <th>num_actv_rev_tl</th>\n",
       "      <th>num_bc_sats</th>\n",
       "      <th>num_bc_tl</th>\n",
       "      <th>num_il_tl</th>\n",
       "      <th>num_op_rev_tl</th>\n",
       "      <th>num_rev_accts</th>\n",
       "      <th>num_rev_tl_bal_gt_0</th>\n",
       "      <th>num_sats</th>\n",
       "      <th>num_tl_120dpd_2m</th>\n",
       "      <th>num_tl_30dpd</th>\n",
       "      <th>num_tl_90g_dpd_24m</th>\n",
       "      <th>num_tl_op_past_12m</th>\n",
       "      <th>pct_tl_nvr_dlq</th>\n",
       "      <th>percent_bc_gt_75</th>\n",
       "      <th>pub_rec_bankruptcies</th>\n",
       "      <th>tax_liens</th>\n",
       "      <th>tot_hi_cred_lim</th>\n",
       "      <th>total_bal_ex_mort</th>\n",
       "      <th>total_bc_limit</th>\n",
       "      <th>total_il_high_credit_limit</th>\n",
       "    </tr>\n",
       "  </thead>\n",
       "  <tbody>\n",
       "    <tr>\n",
       "      <th>0</th>\n",
       "      <td>1077501</td>\n",
       "      <td>1296599.0</td>\n",
       "      <td>5000.0</td>\n",
       "      <td>5000.0</td>\n",
       "      <td>4975.0</td>\n",
       "      <td>36 months</td>\n",
       "      <td>10.65%</td>\n",
       "      <td>162.87</td>\n",
       "      <td>B</td>\n",
       "      <td>B2</td>\n",
       "      <td>NaN</td>\n",
       "      <td>10+ years</td>\n",
       "      <td>RENT</td>\n",
       "      <td>24000.0</td>\n",
       "      <td>Verified</td>\n",
       "      <td>Dec-2011</td>\n",
       "      <td>Fully Paid</td>\n",
       "      <td>n</td>\n",
       "      <td>https://lendingclub.com/browse/loanDetail.acti...</td>\n",
       "      <td>Borrower added on 12/22/11 &gt; I need to upgra...</td>\n",
       "      <td>credit_card</td>\n",
       "      <td>Computer</td>\n",
       "      <td>860xx</td>\n",
       "      <td>AZ</td>\n",
       "      <td>27.65</td>\n",
       "      <td>0.0</td>\n",
       "      <td>Jan-1985</td>\n",
       "      <td>735.0</td>\n",
       "      <td>739.0</td>\n",
       "      <td>1.0</td>\n",
       "      <td>NaN</td>\n",
       "      <td>NaN</td>\n",
       "      <td>3.0</td>\n",
       "      <td>0.0</td>\n",
       "      <td>13648.0</td>\n",
       "      <td>83.7%</td>\n",
       "      <td>9.0</td>\n",
       "      <td>f</td>\n",
       "      <td>0.0</td>\n",
       "      <td>0.0</td>\n",
       "      <td>5863.155187</td>\n",
       "      <td>5833.84</td>\n",
       "      <td>5000.0</td>\n",
       "      <td>863.16</td>\n",
       "      <td>0.0</td>\n",
       "      <td>0.0</td>\n",
       "      <td>0.0</td>\n",
       "      <td>Jan-2015</td>\n",
       "      <td>171.62</td>\n",
       "      <td>NaN</td>\n",
       "      <td>Sep-2016</td>\n",
       "      <td>744.0</td>\n",
       "      <td>740.0</td>\n",
       "      <td>0.0</td>\n",
       "      <td>NaN</td>\n",
       "      <td>1.0</td>\n",
       "      <td>INDIVIDUAL</td>\n",
       "      <td>NaN</td>\n",
       "      <td>NaN</td>\n",
       "      <td>NaN</td>\n",
       "      <td>0.0</td>\n",
       "      <td>NaN</td>\n",
       "      <td>NaN</td>\n",
       "      <td>NaN</td>\n",
       "      <td>NaN</td>\n",
       "      <td>NaN</td>\n",
       "      <td>NaN</td>\n",
       "      <td>NaN</td>\n",
       "      <td>NaN</td>\n",
       "      <td>NaN</td>\n",
       "      <td>NaN</td>\n",
       "      <td>NaN</td>\n",
       "      <td>NaN</td>\n",
       "      <td>NaN</td>\n",
       "      <td>NaN</td>\n",
       "      <td>NaN</td>\n",
       "      <td>NaN</td>\n",
       "      <td>NaN</td>\n",
       "      <td>NaN</td>\n",
       "      <td>NaN</td>\n",
       "      <td>NaN</td>\n",
       "      <td>NaN</td>\n",
       "      <td>0.0</td>\n",
       "      <td>0.0</td>\n",
       "      <td>NaN</td>\n",
       "      <td>NaN</td>\n",
       "      <td>NaN</td>\n",
       "      <td>NaN</td>\n",
       "      <td>NaN</td>\n",
       "      <td>NaN</td>\n",
       "      <td>NaN</td>\n",
       "      <td>NaN</td>\n",
       "      <td>NaN</td>\n",
       "      <td>NaN</td>\n",
       "      <td>NaN</td>\n",
       "      <td>NaN</td>\n",
       "      <td>NaN</td>\n",
       "      <td>NaN</td>\n",
       "      <td>NaN</td>\n",
       "      <td>NaN</td>\n",
       "      <td>NaN</td>\n",
       "      <td>NaN</td>\n",
       "      <td>NaN</td>\n",
       "      <td>NaN</td>\n",
       "      <td>NaN</td>\n",
       "      <td>NaN</td>\n",
       "      <td>NaN</td>\n",
       "      <td>NaN</td>\n",
       "      <td>NaN</td>\n",
       "      <td>0.0</td>\n",
       "      <td>0.0</td>\n",
       "      <td>NaN</td>\n",
       "      <td>NaN</td>\n",
       "      <td>NaN</td>\n",
       "      <td>NaN</td>\n",
       "    </tr>\n",
       "  </tbody>\n",
       "</table>\n",
       "</div>"
      ],
      "text/plain": [
       "        id  member_id  loan_amnt  funded_amnt  funded_amnt_inv        term  \\\n",
       "0  1077501  1296599.0     5000.0       5000.0           4975.0   36 months   \n",
       "\n",
       "  int_rate  installment grade sub_grade emp_title emp_length home_ownership  \\\n",
       "0   10.65%       162.87     B        B2       NaN  10+ years           RENT   \n",
       "\n",
       "   annual_inc verification_status   issue_d loan_status pymnt_plan  \\\n",
       "0     24000.0            Verified  Dec-2011  Fully Paid          n   \n",
       "\n",
       "                                                 url  \\\n",
       "0  https://lendingclub.com/browse/loanDetail.acti...   \n",
       "\n",
       "                                                desc      purpose     title  \\\n",
       "0    Borrower added on 12/22/11 > I need to upgra...  credit_card  Computer   \n",
       "\n",
       "  zip_code addr_state    dti  delinq_2yrs earliest_cr_line  fico_range_low  \\\n",
       "0    860xx         AZ  27.65          0.0         Jan-1985           735.0   \n",
       "\n",
       "   fico_range_high  inq_last_6mths  mths_since_last_delinq  \\\n",
       "0            739.0             1.0                     NaN   \n",
       "\n",
       "   mths_since_last_record  open_acc  pub_rec  revol_bal revol_util  total_acc  \\\n",
       "0                     NaN       3.0      0.0    13648.0      83.7%        9.0   \n",
       "\n",
       "  initial_list_status  out_prncp  out_prncp_inv  total_pymnt  total_pymnt_inv  \\\n",
       "0                   f        0.0            0.0  5863.155187          5833.84   \n",
       "\n",
       "   total_rec_prncp  total_rec_int  total_rec_late_fee  recoveries  \\\n",
       "0           5000.0         863.16                 0.0         0.0   \n",
       "\n",
       "   collection_recovery_fee last_pymnt_d  last_pymnt_amnt next_pymnt_d  \\\n",
       "0                      0.0     Jan-2015           171.62          NaN   \n",
       "\n",
       "  last_credit_pull_d  last_fico_range_high  last_fico_range_low  \\\n",
       "0           Sep-2016                 744.0                740.0   \n",
       "\n",
       "   collections_12_mths_ex_med  mths_since_last_major_derog  policy_code  \\\n",
       "0                         0.0                          NaN          1.0   \n",
       "\n",
       "  application_type  annual_inc_joint  dti_joint  verification_status_joint  \\\n",
       "0       INDIVIDUAL               NaN        NaN                        NaN   \n",
       "\n",
       "   acc_now_delinq  tot_coll_amt  tot_cur_bal  open_acc_6m  open_il_6m  \\\n",
       "0             0.0           NaN          NaN          NaN         NaN   \n",
       "\n",
       "   open_il_12m  open_il_24m  mths_since_rcnt_il  total_bal_il  il_util  \\\n",
       "0          NaN          NaN                 NaN           NaN      NaN   \n",
       "\n",
       "   open_rv_12m  open_rv_24m  max_bal_bc  all_util  total_rev_hi_lim  inq_fi  \\\n",
       "0          NaN          NaN         NaN       NaN               NaN     NaN   \n",
       "\n",
       "   total_cu_tl  inq_last_12m  acc_open_past_24mths  avg_cur_bal  \\\n",
       "0          NaN           NaN                   NaN          NaN   \n",
       "\n",
       "   bc_open_to_buy  bc_util  chargeoff_within_12_mths  delinq_amnt  \\\n",
       "0             NaN      NaN                       0.0          0.0   \n",
       "\n",
       "   mo_sin_old_il_acct  mo_sin_old_rev_tl_op  mo_sin_rcnt_rev_tl_op  \\\n",
       "0                 NaN                   NaN                    NaN   \n",
       "\n",
       "   mo_sin_rcnt_tl  mort_acc  mths_since_recent_bc  mths_since_recent_bc_dlq  \\\n",
       "0             NaN       NaN                   NaN                       NaN   \n",
       "\n",
       "   mths_since_recent_inq  mths_since_recent_revol_delinq  \\\n",
       "0                    NaN                             NaN   \n",
       "\n",
       "   num_accts_ever_120_pd  num_actv_bc_tl  num_actv_rev_tl  num_bc_sats  \\\n",
       "0                    NaN             NaN              NaN          NaN   \n",
       "\n",
       "   num_bc_tl  num_il_tl  num_op_rev_tl  num_rev_accts  num_rev_tl_bal_gt_0  \\\n",
       "0        NaN        NaN            NaN            NaN                  NaN   \n",
       "\n",
       "   num_sats  num_tl_120dpd_2m  num_tl_30dpd  num_tl_90g_dpd_24m  \\\n",
       "0       NaN               NaN           NaN                 NaN   \n",
       "\n",
       "   num_tl_op_past_12m  pct_tl_nvr_dlq  percent_bc_gt_75  pub_rec_bankruptcies  \\\n",
       "0                 NaN             NaN               NaN                   0.0   \n",
       "\n",
       "   tax_liens  tot_hi_cred_lim  total_bal_ex_mort  total_bc_limit  \\\n",
       "0        0.0              NaN                NaN             NaN   \n",
       "\n",
       "   total_il_high_credit_limit  \n",
       "0                         NaN  "
      ]
     },
     "execution_count": 5,
     "metadata": {},
     "output_type": "execute_result"
    }
   ],
   "source": [
    "loan_df.head(1)"
   ]
  },
  {
   "cell_type": "code",
   "execution_count": 6,
   "id": "df3e91df",
   "metadata": {},
   "outputs": [],
   "source": [
    "# Creating Function to get column name explanation\n",
    "def search(x):\n",
    "    fnd=data_dict_df[data_dict_df['LoanStatNew']==str(x)].values\n",
    "    return('Description is ---->',fnd[0][1])"
   ]
  },
  {
   "cell_type": "code",
   "execution_count": 7,
   "id": "8f98f06d",
   "metadata": {},
   "outputs": [
    {
     "data": {
      "text/plain": [
       "('Description is ---->',\n",
       " 'The total amount committed by investors for that loan at that point in time.')"
      ]
     },
     "execution_count": 7,
     "metadata": {},
     "output_type": "execute_result"
    }
   ],
   "source": [
    "search('funded_amnt_inv')"
   ]
  },
  {
   "cell_type": "code",
   "execution_count": 8,
   "id": "ed52741e",
   "metadata": {},
   "outputs": [
    {
     "data": {
      "text/plain": [
       "id                                0\n",
       "member_id                         3\n",
       "loan_amnt                         3\n",
       "funded_amnt                       3\n",
       "funded_amnt_inv                   3\n",
       "                              ...  \n",
       "tax_liens                       108\n",
       "tot_hi_cred_lim               42538\n",
       "total_bal_ex_mort             42538\n",
       "total_bc_limit                42538\n",
       "total_il_high_credit_limit    42538\n",
       "Length: 115, dtype: int64"
      ]
     },
     "execution_count": 8,
     "metadata": {},
     "output_type": "execute_result"
    }
   ],
   "source": [
    "loan_df.isnull().sum()"
   ]
  },
  {
   "cell_type": "code",
   "execution_count": 9,
   "id": "0336bc6a",
   "metadata": {},
   "outputs": [
    {
     "name": "stdout",
     "output_type": "stream",
     "text": [
      "id ---> 0\n",
      "member_id ---> 3\n",
      "loan_amnt ---> 3\n",
      "funded_amnt ---> 3\n",
      "funded_amnt_inv ---> 3\n",
      "term ---> 3\n",
      "int_rate ---> 3\n",
      "installment ---> 3\n",
      "grade ---> 3\n",
      "sub_grade ---> 3\n",
      "emp_title ---> 2629\n",
      "emp_length ---> 1115\n",
      "home_ownership ---> 3\n",
      "annual_inc ---> 7\n",
      "verification_status ---> 3\n",
      "issue_d ---> 3\n",
      "loan_status ---> 3\n",
      "pymnt_plan ---> 3\n",
      "url ---> 3\n",
      "desc ---> 13296\n",
      "purpose ---> 3\n",
      "title ---> 16\n",
      "zip_code ---> 3\n",
      "addr_state ---> 3\n",
      "dti ---> 3\n",
      "delinq_2yrs ---> 32\n",
      "earliest_cr_line ---> 32\n",
      "fico_range_low ---> 3\n",
      "fico_range_high ---> 3\n",
      "inq_last_6mths ---> 32\n",
      "mths_since_last_delinq ---> 26929\n",
      "mths_since_last_record ---> 38887\n",
      "open_acc ---> 32\n",
      "pub_rec ---> 32\n",
      "revol_bal ---> 3\n",
      "revol_util ---> 93\n",
      "total_acc ---> 32\n",
      "initial_list_status ---> 3\n",
      "out_prncp ---> 3\n",
      "out_prncp_inv ---> 3\n",
      "total_pymnt ---> 3\n",
      "total_pymnt_inv ---> 3\n",
      "total_rec_prncp ---> 3\n",
      "total_rec_int ---> 3\n",
      "total_rec_late_fee ---> 3\n",
      "recoveries ---> 3\n",
      "collection_recovery_fee ---> 3\n",
      "last_pymnt_d ---> 86\n",
      "last_pymnt_amnt ---> 3\n",
      "next_pymnt_d ---> 39242\n",
      "last_credit_pull_d ---> 7\n",
      "last_fico_range_high ---> 3\n",
      "last_fico_range_low ---> 3\n",
      "collections_12_mths_ex_med ---> 148\n",
      "mths_since_last_major_derog ---> 42538\n",
      "policy_code ---> 3\n",
      "application_type ---> 3\n",
      "annual_inc_joint ---> 42538\n",
      "dti_joint ---> 42538\n",
      "verification_status_joint ---> 42538\n",
      "acc_now_delinq ---> 32\n",
      "tot_coll_amt ---> 42538\n",
      "tot_cur_bal ---> 42538\n",
      "open_acc_6m ---> 42538\n",
      "open_il_6m ---> 42538\n",
      "open_il_12m ---> 42538\n",
      "open_il_24m ---> 42538\n",
      "mths_since_rcnt_il ---> 42538\n",
      "total_bal_il ---> 42538\n",
      "il_util ---> 42538\n",
      "open_rv_12m ---> 42538\n",
      "open_rv_24m ---> 42538\n",
      "max_bal_bc ---> 42538\n",
      "all_util ---> 42538\n",
      "total_rev_hi_lim ---> 42538\n",
      "inq_fi ---> 42538\n",
      "total_cu_tl ---> 42538\n",
      "inq_last_12m ---> 42538\n",
      "acc_open_past_24mths ---> 42538\n",
      "avg_cur_bal ---> 42538\n",
      "bc_open_to_buy ---> 42538\n",
      "bc_util ---> 42538\n",
      "chargeoff_within_12_mths ---> 148\n",
      "delinq_amnt ---> 32\n",
      "mo_sin_old_il_acct ---> 42538\n",
      "mo_sin_old_rev_tl_op ---> 42538\n",
      "mo_sin_rcnt_rev_tl_op ---> 42538\n",
      "mo_sin_rcnt_tl ---> 42538\n",
      "mort_acc ---> 42538\n",
      "mths_since_recent_bc ---> 42538\n",
      "mths_since_recent_bc_dlq ---> 42538\n",
      "mths_since_recent_inq ---> 42538\n",
      "mths_since_recent_revol_delinq ---> 42538\n",
      "num_accts_ever_120_pd ---> 42538\n",
      "num_actv_bc_tl ---> 42538\n",
      "num_actv_rev_tl ---> 42538\n",
      "num_bc_sats ---> 42538\n",
      "num_bc_tl ---> 42538\n",
      "num_il_tl ---> 42538\n",
      "num_op_rev_tl ---> 42538\n",
      "num_rev_accts ---> 42538\n",
      "num_rev_tl_bal_gt_0 ---> 42538\n",
      "num_sats ---> 42538\n",
      "num_tl_120dpd_2m ---> 42538\n",
      "num_tl_30dpd ---> 42538\n",
      "num_tl_90g_dpd_24m ---> 42538\n",
      "num_tl_op_past_12m ---> 42538\n",
      "pct_tl_nvr_dlq ---> 42538\n",
      "percent_bc_gt_75 ---> 42538\n",
      "pub_rec_bankruptcies ---> 1368\n",
      "tax_liens ---> 108\n",
      "tot_hi_cred_lim ---> 42538\n",
      "total_bal_ex_mort ---> 42538\n",
      "total_bc_limit ---> 42538\n",
      "total_il_high_credit_limit ---> 42538\n"
     ]
    }
   ],
   "source": [
    "# checking null values in each column \n",
    "for i in loan_df.columns:\n",
    "    print(i,'--->',loan_df[i].isnull().sum())"
   ]
  },
  {
   "cell_type": "markdown",
   "id": "2b2bcbc6",
   "metadata": {},
   "source": [
    "# Dropping data"
   ]
  },
  {
   "cell_type": "markdown",
   "id": "98af237e",
   "metadata": {},
   "source": [
    "**Droping columns which consist of null values greater than 40%**\n"
   ]
  },
  {
   "cell_type": "code",
   "execution_count": 10,
   "id": "fff30c45",
   "metadata": {},
   "outputs": [],
   "source": [
    "for i in loan_df.columns.values:\n",
    "    if ((loan_df[i].isnull().sum()/loan_df.shape[0])>0.40):\n",
    "        #print(i,loan_df[i].isnull().sum())\n",
    "        loan_df.drop(i, axis=1,inplace=True)"
   ]
  },
  {
   "cell_type": "code",
   "execution_count": 11,
   "id": "e14384cc",
   "metadata": {},
   "outputs": [
    {
     "data": {
      "text/plain": [
       "(42538, 58)"
      ]
     },
     "execution_count": 11,
     "metadata": {},
     "output_type": "execute_result"
    }
   ],
   "source": [
    "loan_df.shape"
   ]
  },
  {
   "cell_type": "code",
   "execution_count": 12,
   "id": "26aa37bb",
   "metadata": {},
   "outputs": [
    {
     "data": {
      "text/plain": [
       "id                            42538\n",
       "member_id                     42535\n",
       "loan_amnt                       898\n",
       "funded_amnt                    1051\n",
       "funded_amnt_inv                9244\n",
       "term                              2\n",
       "int_rate                        394\n",
       "installment                   16459\n",
       "grade                             7\n",
       "sub_grade                        35\n",
       "emp_title                     30658\n",
       "emp_length                       11\n",
       "home_ownership                    5\n",
       "annual_inc                     5597\n",
       "verification_status               3\n",
       "issue_d                          55\n",
       "loan_status                       9\n",
       "pymnt_plan                        2\n",
       "url                           42535\n",
       "desc                          28963\n",
       "purpose                          14\n",
       "title                         21264\n",
       "zip_code                        837\n",
       "addr_state                       50\n",
       "dti                            2894\n",
       "delinq_2yrs                      12\n",
       "earliest_cr_line                530\n",
       "fico_range_low                   44\n",
       "fico_range_high                  44\n",
       "inq_last_6mths                   28\n",
       "open_acc                         44\n",
       "pub_rec                           6\n",
       "revol_bal                     22709\n",
       "revol_util                     1119\n",
       "total_acc                        83\n",
       "initial_list_status               1\n",
       "out_prncp                       547\n",
       "out_prncp_inv                   548\n",
       "total_pymnt                   42388\n",
       "total_pymnt_inv               40108\n",
       "total_rec_prncp                8214\n",
       "total_rec_int                 37533\n",
       "total_rec_late_fee             2288\n",
       "recoveries                     4530\n",
       "collection_recovery_fee        2859\n",
       "last_pymnt_d                    106\n",
       "last_pymnt_amnt               37117\n",
       "last_credit_pull_d              111\n",
       "last_fico_range_high             72\n",
       "last_fico_range_low              71\n",
       "collections_12_mths_ex_med        1\n",
       "policy_code                       1\n",
       "application_type                  1\n",
       "acc_now_delinq                    2\n",
       "chargeoff_within_12_mths          1\n",
       "delinq_amnt                       3\n",
       "pub_rec_bankruptcies              3\n",
       "tax_liens                         2\n",
       "dtype: int64"
      ]
     },
     "execution_count": 12,
     "metadata": {},
     "output_type": "execute_result"
    }
   ],
   "source": [
    "# Checking number of unique values\n",
    "loan_df.nunique()"
   ]
  },
  {
   "cell_type": "markdown",
   "id": "1b9b179c",
   "metadata": {},
   "source": [
    "**Droping column which contain only single values**"
   ]
  },
  {
   "cell_type": "code",
   "execution_count": 13,
   "id": "bba8f5df",
   "metadata": {},
   "outputs": [
    {
     "name": "stdout",
     "output_type": "stream",
     "text": [
      "f    42535\n",
      "Name: initial_list_status, dtype: int64\n",
      "------------------\n",
      "0.0    42390\n",
      "Name: collections_12_mths_ex_med, dtype: int64\n",
      "------------------\n",
      "1.0    42535\n",
      "Name: policy_code, dtype: int64\n",
      "------------------\n",
      "INDIVIDUAL    42535\n",
      "Name: application_type, dtype: int64\n",
      "------------------\n",
      "0.0    42390\n",
      "Name: chargeoff_within_12_mths, dtype: int64\n",
      "------------------\n"
     ]
    }
   ],
   "source": [
    "for i in loan_df.columns.values:\n",
    "    if loan_df[i].nunique()<=1:\n",
    "        print(loan_df[i].value_counts())\n",
    "        print('------------------')\n",
    "        loan_df.drop(i,axis=1,inplace=True)"
   ]
  },
  {
   "cell_type": "code",
   "execution_count": 14,
   "id": "2974cc0a",
   "metadata": {},
   "outputs": [
    {
     "data": {
      "text/plain": [
       "(42538, 53)"
      ]
     },
     "execution_count": 14,
     "metadata": {},
     "output_type": "execute_result"
    }
   ],
   "source": [
    "loan_df.shape"
   ]
  },
  {
   "cell_type": "code",
   "execution_count": 15,
   "id": "98130fc1",
   "metadata": {},
   "outputs": [
    {
     "name": "stdout",
     "output_type": "stream",
     "text": [
      "term\n",
      " 36 months    31534\n",
      " 60 months    11001\n",
      "Name: term, dtype: int64\n",
      "3\n",
      "----------------------------------------------------\n",
      "grade\n",
      "B    12389\n",
      "A    10183\n",
      "C     8740\n",
      "D     6016\n",
      "E     3394\n",
      "F     1301\n",
      "G      512\n",
      "Name: grade, dtype: int64\n",
      "3\n",
      "----------------------------------------------------\n",
      "home_ownership\n",
      "RENT        20181\n",
      "MORTGAGE    18959\n",
      "OWN          3251\n",
      "OTHER         136\n",
      "NONE            8\n",
      "Name: home_ownership, dtype: int64\n",
      "3\n",
      "----------------------------------------------------\n",
      "verification_status\n",
      "Not Verified       18758\n",
      "Verified           13471\n",
      "Source Verified    10306\n",
      "Name: verification_status, dtype: int64\n",
      "3\n",
      "----------------------------------------------------\n",
      "loan_status\n",
      "Fully Paid                                             33586\n",
      "Charged Off                                             5653\n",
      "Does not meet the credit policy. Status:Fully Paid      1988\n",
      "Does not meet the credit policy. Status:Charged Off      761\n",
      "Current                                                  513\n",
      "In Grace Period                                           16\n",
      "Late (31-120 days)                                        12\n",
      "Late (16-30 days)                                          5\n",
      "Default                                                    1\n",
      "Name: loan_status, dtype: int64\n",
      "3\n",
      "----------------------------------------------------\n",
      "pymnt_plan\n",
      "n    42534\n",
      "y        1\n",
      "Name: pymnt_plan, dtype: int64\n",
      "3\n",
      "----------------------------------------------------\n",
      "pub_rec\n",
      "0.0    40130\n",
      "1.0     2298\n",
      "2.0       64\n",
      "3.0       11\n",
      "4.0        2\n",
      "5.0        1\n",
      "Name: pub_rec, dtype: int64\n",
      "32\n",
      "----------------------------------------------------\n",
      "acc_now_delinq\n",
      "0.0    42502\n",
      "1.0        4\n",
      "Name: acc_now_delinq, dtype: int64\n",
      "32\n",
      "----------------------------------------------------\n",
      "delinq_amnt\n",
      "0.0       42504\n",
      "27.0          1\n",
      "6053.0        1\n",
      "Name: delinq_amnt, dtype: int64\n",
      "32\n",
      "----------------------------------------------------\n",
      "pub_rec_bankruptcies\n",
      "0.0    39316\n",
      "1.0     1846\n",
      "2.0        8\n",
      "Name: pub_rec_bankruptcies, dtype: int64\n",
      "1368\n",
      "----------------------------------------------------\n",
      "tax_liens\n",
      "0.0    42429\n",
      "1.0        1\n",
      "Name: tax_liens, dtype: int64\n",
      "108\n",
      "----------------------------------------------------\n"
     ]
    }
   ],
   "source": [
    "for i in loan_df.columns.values:\n",
    "    if loan_df[i].nunique()<=10:\n",
    "        print(i)\n",
    "        print(loan_df[i].value_counts())\n",
    "        print(loan_df[i].isna().sum())\n",
    "        print('----------------------------------------------------')"
   ]
  },
  {
   "cell_type": "markdown",
   "id": "6c9d488f",
   "metadata": {},
   "source": [
    "**Droping columns which have most of their data in a single column**"
   ]
  },
  {
   "cell_type": "code",
   "execution_count": 16,
   "id": "efec2dd2",
   "metadata": {},
   "outputs": [],
   "source": [
    "#Droping some more column\n",
    "col_to_drop=['pymnt_plan','acc_now_delinq','delinq_amnt','tax_liens']\n",
    "loan_df.drop(columns=col_to_drop,axis=1,inplace=True)"
   ]
  },
  {
   "cell_type": "code",
   "execution_count": 17,
   "id": "4998f93a",
   "metadata": {},
   "outputs": [
    {
     "data": {
      "text/plain": [
       "Index(['id', 'member_id', 'loan_amnt', 'funded_amnt', 'funded_amnt_inv',\n",
       "       'term', 'int_rate', 'installment', 'grade', 'sub_grade', 'emp_title',\n",
       "       'emp_length', 'home_ownership', 'annual_inc', 'verification_status',\n",
       "       'issue_d', 'loan_status', 'url', 'desc', 'purpose', 'title', 'zip_code',\n",
       "       'addr_state', 'dti', 'delinq_2yrs', 'earliest_cr_line',\n",
       "       'fico_range_low', 'fico_range_high', 'inq_last_6mths', 'open_acc',\n",
       "       'pub_rec', 'revol_bal', 'revol_util', 'total_acc', 'out_prncp',\n",
       "       'out_prncp_inv', 'total_pymnt', 'total_pymnt_inv', 'total_rec_prncp',\n",
       "       'total_rec_int', 'total_rec_late_fee', 'recoveries',\n",
       "       'collection_recovery_fee', 'last_pymnt_d', 'last_pymnt_amnt',\n",
       "       'last_credit_pull_d', 'last_fico_range_high', 'last_fico_range_low',\n",
       "       'pub_rec_bankruptcies'],\n",
       "      dtype='object')"
      ]
     },
     "execution_count": 17,
     "metadata": {},
     "output_type": "execute_result"
    }
   ],
   "source": [
    "loan_df.columns"
   ]
  },
  {
   "cell_type": "code",
   "execution_count": 18,
   "id": "3ea44a49",
   "metadata": {},
   "outputs": [
    {
     "data": {
      "text/plain": [
       "id                         42538\n",
       "member_id                  42535\n",
       "loan_amnt                    898\n",
       "funded_amnt                 1051\n",
       "funded_amnt_inv             9244\n",
       "term                           2\n",
       "int_rate                     394\n",
       "installment                16459\n",
       "grade                          7\n",
       "sub_grade                     35\n",
       "emp_title                  30658\n",
       "emp_length                    11\n",
       "home_ownership                 5\n",
       "annual_inc                  5597\n",
       "verification_status            3\n",
       "issue_d                       55\n",
       "loan_status                    9\n",
       "url                        42535\n",
       "desc                       28963\n",
       "purpose                       14\n",
       "title                      21264\n",
       "zip_code                     837\n",
       "addr_state                    50\n",
       "dti                         2894\n",
       "delinq_2yrs                   12\n",
       "earliest_cr_line             530\n",
       "fico_range_low                44\n",
       "fico_range_high               44\n",
       "inq_last_6mths                28\n",
       "open_acc                      44\n",
       "pub_rec                        6\n",
       "revol_bal                  22709\n",
       "revol_util                  1119\n",
       "total_acc                     83\n",
       "out_prncp                    547\n",
       "out_prncp_inv                548\n",
       "total_pymnt                42388\n",
       "total_pymnt_inv            40108\n",
       "total_rec_prncp             8214\n",
       "total_rec_int              37533\n",
       "total_rec_late_fee          2288\n",
       "recoveries                  4530\n",
       "collection_recovery_fee     2859\n",
       "last_pymnt_d                 106\n",
       "last_pymnt_amnt            37117\n",
       "last_credit_pull_d           111\n",
       "last_fico_range_high          72\n",
       "last_fico_range_low           71\n",
       "pub_rec_bankruptcies           3\n",
       "dtype: int64"
      ]
     },
     "execution_count": 18,
     "metadata": {},
     "output_type": "execute_result"
    }
   ],
   "source": [
    "loan_df.nunique()"
   ]
  },
  {
   "cell_type": "code",
   "execution_count": 19,
   "id": "a085cb4a",
   "metadata": {},
   "outputs": [
    {
     "name": "stdout",
     "output_type": "stream",
     "text": [
      "id ----- 42538 ----- object\n",
      "member_id ----- 42535 ----- float64\n",
      "funded_amnt_inv ----- 9244 ----- float64\n",
      "installment ----- 16459 ----- float64\n",
      "emp_title ----- 30658 ----- object\n",
      "url ----- 42535 ----- object\n",
      "desc ----- 28963 ----- object\n",
      "title ----- 21264 ----- object\n",
      "revol_bal ----- 22709 ----- float64\n",
      "total_pymnt ----- 42388 ----- float64\n",
      "total_pymnt_inv ----- 40108 ----- float64\n",
      "total_rec_int ----- 37533 ----- float64\n",
      "last_pymnt_amnt ----- 37117 ----- float64\n"
     ]
    }
   ],
   "source": [
    "for i in loan_df.columns.values:\n",
    "    if ((loan_df[i].nunique()/loan_df.shape[0])>0.20):\n",
    "        print(i,'-----',loan_df[i].nunique(),'-----',loan_df[i].dtype)\n"
   ]
  },
  {
   "cell_type": "markdown",
   "id": "cc28e3b4",
   "metadata": {},
   "source": [
    "**Dropping unnecessary columns**"
   ]
  },
  {
   "cell_type": "code",
   "execution_count": 20,
   "id": "eb2e9073",
   "metadata": {},
   "outputs": [],
   "source": [
    "col_to_drop_2=['id','member_id','url','desc']\n",
    "loan_df.drop(columns=col_to_drop_2,inplace=True)"
   ]
  },
  {
   "cell_type": "markdown",
   "id": "88127af7",
   "metadata": {},
   "source": [
    "**Droping duplicate rows**"
   ]
  },
  {
   "cell_type": "code",
   "execution_count": 21,
   "id": "902e3e4d",
   "metadata": {},
   "outputs": [],
   "source": [
    "loan_df.drop_duplicates(inplace=True)"
   ]
  },
  {
   "cell_type": "markdown",
   "id": "e7910051",
   "metadata": {},
   "source": [
    "# Filling empty feilds"
   ]
  },
  {
   "cell_type": "code",
   "execution_count": 22,
   "id": "2e937e35",
   "metadata": {},
   "outputs": [
    {
     "data": {
      "text/plain": [
       "loan_amnt                     1\n",
       "funded_amnt                   1\n",
       "funded_amnt_inv               1\n",
       "term                          1\n",
       "int_rate                      1\n",
       "installment                   1\n",
       "grade                         1\n",
       "sub_grade                     1\n",
       "emp_title                  2627\n",
       "emp_length                 1113\n",
       "home_ownership                1\n",
       "annual_inc                    5\n",
       "verification_status           1\n",
       "issue_d                       1\n",
       "loan_status                   1\n",
       "purpose                       1\n",
       "title                        14\n",
       "zip_code                      1\n",
       "addr_state                    1\n",
       "dti                           1\n",
       "delinq_2yrs                  30\n",
       "earliest_cr_line             30\n",
       "fico_range_low                1\n",
       "fico_range_high               1\n",
       "inq_last_6mths               30\n",
       "open_acc                     30\n",
       "pub_rec                      30\n",
       "revol_bal                     1\n",
       "revol_util                   91\n",
       "total_acc                    30\n",
       "out_prncp                     1\n",
       "out_prncp_inv                 1\n",
       "total_pymnt                   1\n",
       "total_pymnt_inv               1\n",
       "total_rec_prncp               1\n",
       "total_rec_int                 1\n",
       "total_rec_late_fee            1\n",
       "recoveries                    1\n",
       "collection_recovery_fee       1\n",
       "last_pymnt_d                 84\n",
       "last_pymnt_amnt               1\n",
       "last_credit_pull_d            5\n",
       "last_fico_range_high          1\n",
       "last_fico_range_low           1\n",
       "pub_rec_bankruptcies       1366\n",
       "dtype: int64"
      ]
     },
     "execution_count": 22,
     "metadata": {},
     "output_type": "execute_result"
    }
   ],
   "source": [
    "loan_df.isnull().sum()"
   ]
  },
  {
   "cell_type": "code",
   "execution_count": 23,
   "id": "af119623",
   "metadata": {},
   "outputs": [
    {
     "name": "stdout",
     "output_type": "stream",
     "text": [
      "<class 'pandas.core.frame.DataFrame'>\n",
      "Int64Index: 42536 entries, 0 to 42535\n",
      "Data columns (total 45 columns):\n",
      " #   Column                   Non-Null Count  Dtype  \n",
      "---  ------                   --------------  -----  \n",
      " 0   loan_amnt                42535 non-null  float64\n",
      " 1   funded_amnt              42535 non-null  float64\n",
      " 2   funded_amnt_inv          42535 non-null  float64\n",
      " 3   term                     42535 non-null  object \n",
      " 4   int_rate                 42535 non-null  object \n",
      " 5   installment              42535 non-null  float64\n",
      " 6   grade                    42535 non-null  object \n",
      " 7   sub_grade                42535 non-null  object \n",
      " 8   emp_title                39909 non-null  object \n",
      " 9   emp_length               41423 non-null  object \n",
      " 10  home_ownership           42535 non-null  object \n",
      " 11  annual_inc               42531 non-null  float64\n",
      " 12  verification_status      42535 non-null  object \n",
      " 13  issue_d                  42535 non-null  object \n",
      " 14  loan_status              42535 non-null  object \n",
      " 15  purpose                  42535 non-null  object \n",
      " 16  title                    42522 non-null  object \n",
      " 17  zip_code                 42535 non-null  object \n",
      " 18  addr_state               42535 non-null  object \n",
      " 19  dti                      42535 non-null  float64\n",
      " 20  delinq_2yrs              42506 non-null  float64\n",
      " 21  earliest_cr_line         42506 non-null  object \n",
      " 22  fico_range_low           42535 non-null  float64\n",
      " 23  fico_range_high          42535 non-null  float64\n",
      " 24  inq_last_6mths           42506 non-null  float64\n",
      " 25  open_acc                 42506 non-null  float64\n",
      " 26  pub_rec                  42506 non-null  float64\n",
      " 27  revol_bal                42535 non-null  float64\n",
      " 28  revol_util               42445 non-null  object \n",
      " 29  total_acc                42506 non-null  float64\n",
      " 30  out_prncp                42535 non-null  float64\n",
      " 31  out_prncp_inv            42535 non-null  float64\n",
      " 32  total_pymnt              42535 non-null  float64\n",
      " 33  total_pymnt_inv          42535 non-null  float64\n",
      " 34  total_rec_prncp          42535 non-null  float64\n",
      " 35  total_rec_int            42535 non-null  float64\n",
      " 36  total_rec_late_fee       42535 non-null  float64\n",
      " 37  recoveries               42535 non-null  float64\n",
      " 38  collection_recovery_fee  42535 non-null  float64\n",
      " 39  last_pymnt_d             42452 non-null  object \n",
      " 40  last_pymnt_amnt          42535 non-null  float64\n",
      " 41  last_credit_pull_d       42531 non-null  object \n",
      " 42  last_fico_range_high     42535 non-null  float64\n",
      " 43  last_fico_range_low      42535 non-null  float64\n",
      " 44  pub_rec_bankruptcies     41170 non-null  float64\n",
      "dtypes: float64(27), object(18)\n",
      "memory usage: 14.9+ MB\n"
     ]
    }
   ],
   "source": [
    "loan_df.info()"
   ]
  },
  {
   "cell_type": "code",
   "execution_count": 24,
   "id": "407c4dfd",
   "metadata": {},
   "outputs": [],
   "source": [
    "for i in loan_df.columns:\n",
    "    if loan_df[i].dtype !='object':\n",
    "        if loan_df[i].min()==0:\n",
    "            loan_df[i].fillna(0,inplace=True)"
   ]
  },
  {
   "cell_type": "code",
   "execution_count": 25,
   "id": "de5c2919",
   "metadata": {},
   "outputs": [
    {
     "data": {
      "text/plain": [
       "loan_amnt                     1\n",
       "funded_amnt                   1\n",
       "funded_amnt_inv               0\n",
       "term                          1\n",
       "int_rate                      1\n",
       "installment                   1\n",
       "grade                         1\n",
       "sub_grade                     1\n",
       "emp_title                  2627\n",
       "emp_length                 1113\n",
       "home_ownership                1\n",
       "annual_inc                    5\n",
       "verification_status           1\n",
       "issue_d                       1\n",
       "loan_status                   1\n",
       "purpose                       1\n",
       "title                        14\n",
       "zip_code                      1\n",
       "addr_state                    1\n",
       "dti                           0\n",
       "delinq_2yrs                   0\n",
       "earliest_cr_line             30\n",
       "fico_range_low                1\n",
       "fico_range_high               1\n",
       "inq_last_6mths                0\n",
       "open_acc                     30\n",
       "pub_rec                       0\n",
       "revol_bal                     0\n",
       "revol_util                   91\n",
       "total_acc                    30\n",
       "out_prncp                     0\n",
       "out_prncp_inv                 0\n",
       "total_pymnt                   0\n",
       "total_pymnt_inv               0\n",
       "total_rec_prncp               0\n",
       "total_rec_int                 0\n",
       "total_rec_late_fee            0\n",
       "recoveries                    0\n",
       "collection_recovery_fee       0\n",
       "last_pymnt_d                 84\n",
       "last_pymnt_amnt               0\n",
       "last_credit_pull_d            5\n",
       "last_fico_range_high          0\n",
       "last_fico_range_low           0\n",
       "pub_rec_bankruptcies          0\n",
       "dtype: int64"
      ]
     },
     "execution_count": 25,
     "metadata": {},
     "output_type": "execute_result"
    }
   ],
   "source": [
    "loan_df.isnull().sum()"
   ]
  },
  {
   "cell_type": "code",
   "execution_count": 26,
   "id": "c1697b9c",
   "metadata": {},
   "outputs": [
    {
     "name": "stdout",
     "output_type": "stream",
     "text": [
      "term\n",
      "int_rate\n",
      "grade\n",
      "sub_grade\n",
      "emp_title\n",
      "emp_length\n",
      "home_ownership\n",
      "verification_status\n",
      "issue_d\n",
      "loan_status\n",
      "purpose\n",
      "title\n",
      "zip_code\n",
      "addr_state\n",
      "earliest_cr_line\n",
      "revol_util\n",
      "last_pymnt_d\n",
      "last_credit_pull_d\n"
     ]
    }
   ],
   "source": [
    "for i in loan_df.columns:\n",
    "    if loan_df[i].dtype =='object':\n",
    "        print(i)"
   ]
  },
  {
   "cell_type": "code",
   "execution_count": 31,
   "id": "b1a6e05f",
   "metadata": {},
   "outputs": [
    {
     "data": {
      "text/plain": [
       "US Army                             139\n",
       "Bank of America                     115\n",
       "IBM                                  72\n",
       "Kaiser Permanente                    61\n",
       "AT&T                                 61\n",
       "                                   ... \n",
       "Regional Elite Airlines Services      1\n",
       "Mass General Medical Group            1\n",
       "Kontera                               1\n",
       "Southeast Georgia Health ystem        1\n",
       "Homemaker                             1\n",
       "Name: emp_title, Length: 30658, dtype: int64"
      ]
     },
     "execution_count": 31,
     "metadata": {},
     "output_type": "execute_result"
    }
   ],
   "source": [
    "loan_df['emp_title'].value_counts()"
   ]
  },
  {
   "cell_type": "code",
   "execution_count": 32,
   "id": "ec723cef",
   "metadata": {},
   "outputs": [],
   "source": [
    "loan_df['emp_title'].fillna('Other',inplace=True)"
   ]
  },
  {
   "cell_type": "code",
   "execution_count": 33,
   "id": "85703429",
   "metadata": {},
   "outputs": [
    {
     "data": {
      "text/plain": [
       "10+ years    9369\n",
       "< 1 year     5062\n",
       "2 years      4743\n",
       "3 years      4364\n",
       "4 years      3649\n",
       "1 year       3595\n",
       "5 years      3458\n",
       "6 years      2375\n",
       "7 years      1875\n",
       "8 years      1592\n",
       "9 years      1341\n",
       "Name: emp_length, dtype: int64"
      ]
     },
     "execution_count": 33,
     "metadata": {},
     "output_type": "execute_result"
    }
   ],
   "source": [
    "loan_df['emp_length'].value_counts()"
   ]
  },
  {
   "cell_type": "code",
   "execution_count": 35,
   "id": "53225abb",
   "metadata": {},
   "outputs": [],
   "source": [
    "loan_df['emp_length'].fillna('< 1 year',inplace=True)"
   ]
  },
  {
   "cell_type": "code",
   "execution_count": 36,
   "id": "9b564dc5",
   "metadata": {},
   "outputs": [
    {
     "data": {
      "text/plain": [
       "RENT        20181\n",
       "MORTGAGE    18959\n",
       "OWN          3251\n",
       "OTHER         136\n",
       "NONE            8\n",
       "Name: home_ownership, dtype: int64"
      ]
     },
     "execution_count": 36,
     "metadata": {},
     "output_type": "execute_result"
    }
   ],
   "source": [
    "loan_df['home_ownership'].value_counts()"
   ]
  },
  {
   "cell_type": "code",
   "execution_count": 37,
   "id": "fcba1286",
   "metadata": {},
   "outputs": [],
   "source": [
    "loan_df['home_ownership'].fillna('OTHER',inplace=True)"
   ]
  },
  {
   "cell_type": "code",
   "execution_count": 38,
   "id": "104f120e",
   "metadata": {},
   "outputs": [],
   "source": [
    "loan_df[loan_df['home_ownership']=='NONE']=loan_df[loan_df['home_ownership']=='NONE'].replace('NONE','OTHER')"
   ]
  },
  {
   "cell_type": "code",
   "execution_count": 39,
   "id": "9d51feb6",
   "metadata": {},
   "outputs": [
    {
     "data": {
      "text/plain": [
       "Not Verified       18758\n",
       "Verified           13471\n",
       "Source Verified    10306\n",
       "Name: verification_status, dtype: int64"
      ]
     },
     "execution_count": 39,
     "metadata": {},
     "output_type": "execute_result"
    }
   ],
   "source": [
    "loan_df['verification_status'].value_counts()"
   ]
  },
  {
   "cell_type": "code",
   "execution_count": 40,
   "id": "52013153",
   "metadata": {},
   "outputs": [],
   "source": [
    "loan_df['verification_status'].fillna('Not Verified',inplace=True)"
   ]
  },
  {
   "cell_type": "code",
   "execution_count": 43,
   "id": "228a49a6",
   "metadata": {},
   "outputs": [
    {
     "data": {
      "text/plain": [
       "debt_consolidation    19776\n",
       "credit_card            5477\n",
       "other                  4425\n",
       "home_improvement       3199\n",
       "major_purchase         2311\n",
       "small_business         1992\n",
       "car                    1615\n",
       "wedding                1004\n",
       "medical                 753\n",
       "moving                  629\n",
       "house                   426\n",
       "educational             422\n",
       "vacation                400\n",
       "renewable_energy        106\n",
       "Name: purpose, dtype: int64"
      ]
     },
     "execution_count": 43,
     "metadata": {},
     "output_type": "execute_result"
    }
   ],
   "source": [
    "loan_df['purpose'].value_counts()"
   ]
  },
  {
   "cell_type": "code",
   "execution_count": 44,
   "id": "a847f93d",
   "metadata": {},
   "outputs": [],
   "source": [
    "loan_df['purpose'].fillna('other',inplace=True)"
   ]
  },
  {
   "cell_type": "code",
   "execution_count": 46,
   "id": "c7c3c7f0",
   "metadata": {},
   "outputs": [
    {
     "data": {
      "text/plain": [
       "100xx    649\n",
       "945xx    559\n",
       "606xx    548\n",
       "112xx    538\n",
       "070xx    503\n",
       "        ... \n",
       "823xx      1\n",
       "965xx      1\n",
       "388xx      1\n",
       "386xx      1\n",
       "036xx      1\n",
       "Name: zip_code, Length: 837, dtype: int64"
      ]
     },
     "execution_count": 46,
     "metadata": {},
     "output_type": "execute_result"
    }
   ],
   "source": [
    "loan_df['zip_code'].value_counts()"
   ]
  },
  {
   "cell_type": "code",
   "execution_count": 47,
   "id": "8b39d64d",
   "metadata": {},
   "outputs": [],
   "source": [
    "loan_df.drop('zip_code',axis=1,inplace=True)"
   ]
  },
  {
   "cell_type": "code",
   "execution_count": 50,
   "id": "b15d3586",
   "metadata": {},
   "outputs": [
    {
     "data": {
      "text/plain": [
       "0%        1070\n",
       "40.7%       65\n",
       "0.2%        64\n",
       "63%         63\n",
       "66.6%       62\n",
       "          ... \n",
       "21.59%       1\n",
       "39.95%       1\n",
       "0.01%        1\n",
       "17.67%       1\n",
       "105.7%       1\n",
       "Name: revol_util, Length: 1119, dtype: int64"
      ]
     },
     "execution_count": 50,
     "metadata": {},
     "output_type": "execute_result"
    }
   ],
   "source": [
    "loan_df['revol_util'].value_counts()"
   ]
  },
  {
   "cell_type": "code",
   "execution_count": 51,
   "id": "d6b9e036",
   "metadata": {},
   "outputs": [],
   "source": [
    "loan_df['revol_util'].fillna('0%',inplace=True)"
   ]
  },
  {
   "cell_type": "code",
   "execution_count": 53,
   "id": "ae89ca80",
   "metadata": {},
   "outputs": [
    {
     "data": {
      "text/plain": [
       "Sep-2016    16232\n",
       "Mar-2016      859\n",
       "Aug-2016      771\n",
       "Apr-2016      700\n",
       "Feb-2013      696\n",
       "            ...  \n",
       "Nov-2007        3\n",
       "May-2008        1\n",
       "Jul-2008        1\n",
       "Jun-2008        1\n",
       "Jul-2007        1\n",
       "Name: last_credit_pull_d, Length: 111, dtype: int64"
      ]
     },
     "execution_count": 53,
     "metadata": {},
     "output_type": "execute_result"
    }
   ],
   "source": [
    "loan_df['last_credit_pull_d'].value_counts()"
   ]
  },
  {
   "cell_type": "code",
   "execution_count": 54,
   "id": "e8f01a3f",
   "metadata": {},
   "outputs": [
    {
     "data": {
      "text/plain": [
       "loan_amnt                   1\n",
       "funded_amnt                 1\n",
       "funded_amnt_inv             0\n",
       "term                        1\n",
       "int_rate                    1\n",
       "installment                 1\n",
       "grade                       1\n",
       "sub_grade                   1\n",
       "emp_title                   0\n",
       "emp_length                  0\n",
       "home_ownership              0\n",
       "annual_inc                  5\n",
       "verification_status         0\n",
       "issue_d                     1\n",
       "loan_status                 1\n",
       "purpose                     0\n",
       "title                      14\n",
       "addr_state                  1\n",
       "dti                         0\n",
       "delinq_2yrs                 0\n",
       "earliest_cr_line           30\n",
       "fico_range_low              1\n",
       "fico_range_high             1\n",
       "inq_last_6mths              0\n",
       "open_acc                   30\n",
       "pub_rec                     0\n",
       "revol_bal                   0\n",
       "revol_util                  0\n",
       "total_acc                  30\n",
       "out_prncp                   0\n",
       "out_prncp_inv               0\n",
       "total_pymnt                 0\n",
       "total_pymnt_inv             0\n",
       "total_rec_prncp             0\n",
       "total_rec_int               0\n",
       "total_rec_late_fee          0\n",
       "recoveries                  0\n",
       "collection_recovery_fee     0\n",
       "last_pymnt_d               84\n",
       "last_pymnt_amnt             0\n",
       "last_credit_pull_d          5\n",
       "last_fico_range_high        0\n",
       "last_fico_range_low         0\n",
       "pub_rec_bankruptcies        0\n",
       "dtype: int64"
      ]
     },
     "execution_count": 54,
     "metadata": {},
     "output_type": "execute_result"
    }
   ],
   "source": [
    "loan_df.isnull().sum()"
   ]
  },
  {
   "cell_type": "markdown",
   "id": "903b4167",
   "metadata": {},
   "source": [
    "**droping all rows which consist of null values**"
   ]
  },
  {
   "cell_type": "code",
   "execution_count": 55,
   "id": "a5edaf14",
   "metadata": {},
   "outputs": [],
   "source": [
    "loan_df.dropna(inplace=True)"
   ]
  },
  {
   "cell_type": "code",
   "execution_count": 56,
   "id": "4c95e60f",
   "metadata": {},
   "outputs": [
    {
     "data": {
      "text/plain": [
       "loan_amnt                  0\n",
       "funded_amnt                0\n",
       "funded_amnt_inv            0\n",
       "term                       0\n",
       "int_rate                   0\n",
       "installment                0\n",
       "grade                      0\n",
       "sub_grade                  0\n",
       "emp_title                  0\n",
       "emp_length                 0\n",
       "home_ownership             0\n",
       "annual_inc                 0\n",
       "verification_status        0\n",
       "issue_d                    0\n",
       "loan_status                0\n",
       "purpose                    0\n",
       "title                      0\n",
       "addr_state                 0\n",
       "dti                        0\n",
       "delinq_2yrs                0\n",
       "earliest_cr_line           0\n",
       "fico_range_low             0\n",
       "fico_range_high            0\n",
       "inq_last_6mths             0\n",
       "open_acc                   0\n",
       "pub_rec                    0\n",
       "revol_bal                  0\n",
       "revol_util                 0\n",
       "total_acc                  0\n",
       "out_prncp                  0\n",
       "out_prncp_inv              0\n",
       "total_pymnt                0\n",
       "total_pymnt_inv            0\n",
       "total_rec_prncp            0\n",
       "total_rec_int              0\n",
       "total_rec_late_fee         0\n",
       "recoveries                 0\n",
       "collection_recovery_fee    0\n",
       "last_pymnt_d               0\n",
       "last_pymnt_amnt            0\n",
       "last_credit_pull_d         0\n",
       "last_fico_range_high       0\n",
       "last_fico_range_low        0\n",
       "pub_rec_bankruptcies       0\n",
       "dtype: int64"
      ]
     },
     "execution_count": 56,
     "metadata": {},
     "output_type": "execute_result"
    }
   ],
   "source": [
    "loan_df.isnull().sum()"
   ]
  },
  {
   "cell_type": "code",
   "execution_count": 57,
   "id": "46fecdfe",
   "metadata": {},
   "outputs": [
    {
     "data": {
      "text/plain": [
       "(42407, 44)"
      ]
     },
     "execution_count": 57,
     "metadata": {},
     "output_type": "execute_result"
    }
   ],
   "source": [
    "loan_df.shape"
   ]
  },
  {
   "cell_type": "markdown",
   "id": "04949753",
   "metadata": {},
   "source": [
    "# cleaning and changing dtype of variable"
   ]
  },
  {
   "cell_type": "code",
   "execution_count": 58,
   "id": "532c8206",
   "metadata": {},
   "outputs": [
    {
     "name": "stdout",
     "output_type": "stream",
     "text": [
      "<class 'pandas.core.frame.DataFrame'>\n",
      "Int64Index: 42407 entries, 0 to 42514\n",
      "Data columns (total 44 columns):\n",
      " #   Column                   Non-Null Count  Dtype  \n",
      "---  ------                   --------------  -----  \n",
      " 0   loan_amnt                42407 non-null  float64\n",
      " 1   funded_amnt              42407 non-null  float64\n",
      " 2   funded_amnt_inv          42407 non-null  float64\n",
      " 3   term                     42407 non-null  object \n",
      " 4   int_rate                 42407 non-null  object \n",
      " 5   installment              42407 non-null  float64\n",
      " 6   grade                    42407 non-null  object \n",
      " 7   sub_grade                42407 non-null  object \n",
      " 8   emp_title                42407 non-null  object \n",
      " 9   emp_length               42407 non-null  object \n",
      " 10  home_ownership           42407 non-null  object \n",
      " 11  annual_inc               42407 non-null  float64\n",
      " 12  verification_status      42407 non-null  object \n",
      " 13  issue_d                  42407 non-null  object \n",
      " 14  loan_status              42407 non-null  object \n",
      " 15  purpose                  42407 non-null  object \n",
      " 16  title                    42407 non-null  object \n",
      " 17  addr_state               42407 non-null  object \n",
      " 18  dti                      42407 non-null  float64\n",
      " 19  delinq_2yrs              42407 non-null  float64\n",
      " 20  earliest_cr_line         42407 non-null  object \n",
      " 21  fico_range_low           42407 non-null  float64\n",
      " 22  fico_range_high          42407 non-null  float64\n",
      " 23  inq_last_6mths           42407 non-null  float64\n",
      " 24  open_acc                 42407 non-null  float64\n",
      " 25  pub_rec                  42407 non-null  float64\n",
      " 26  revol_bal                42407 non-null  float64\n",
      " 27  revol_util               42407 non-null  object \n",
      " 28  total_acc                42407 non-null  float64\n",
      " 29  out_prncp                42407 non-null  float64\n",
      " 30  out_prncp_inv            42407 non-null  float64\n",
      " 31  total_pymnt              42407 non-null  float64\n",
      " 32  total_pymnt_inv          42407 non-null  float64\n",
      " 33  total_rec_prncp          42407 non-null  float64\n",
      " 34  total_rec_int            42407 non-null  float64\n",
      " 35  total_rec_late_fee       42407 non-null  float64\n",
      " 36  recoveries               42407 non-null  float64\n",
      " 37  collection_recovery_fee  42407 non-null  float64\n",
      " 38  last_pymnt_d             42407 non-null  object \n",
      " 39  last_pymnt_amnt          42407 non-null  float64\n",
      " 40  last_credit_pull_d       42407 non-null  object \n",
      " 41  last_fico_range_high     42407 non-null  float64\n",
      " 42  last_fico_range_low      42407 non-null  float64\n",
      " 43  pub_rec_bankruptcies     42407 non-null  float64\n",
      "dtypes: float64(27), object(17)\n",
      "memory usage: 14.6+ MB\n"
     ]
    }
   ],
   "source": [
    "loan_df.info()"
   ]
  },
  {
   "cell_type": "code",
   "execution_count": 59,
   "id": "472d3a9c",
   "metadata": {},
   "outputs": [],
   "source": [
    "def term_clean(i):\n",
    "    return (i[0:3])\n",
    "\n",
    "loan_df['term']=loan_df['term'].apply(term_clean).astype(float)"
   ]
  },
  {
   "cell_type": "code",
   "execution_count": 60,
   "id": "84ddd420",
   "metadata": {},
   "outputs": [],
   "source": [
    "def int_rate_clean(i):\n",
    "    return (i[:-1])\n",
    "\n",
    "loan_df['int_rate']=loan_df['int_rate'].apply(int_rate_clean).astype(float)"
   ]
  },
  {
   "cell_type": "code",
   "execution_count": 61,
   "id": "181be8cd",
   "metadata": {},
   "outputs": [],
   "source": [
    "def revol_util_clean(i):\n",
    "    return (i[:-1])\n",
    "\n",
    "loan_df['revol_util']=loan_df['revol_util'].apply(revol_util_clean).astype(float)"
   ]
  },
  {
   "cell_type": "code",
   "execution_count": 62,
   "id": "b6488e09",
   "metadata": {},
   "outputs": [
    {
     "name": "stdout",
     "output_type": "stream",
     "text": [
      "<class 'pandas.core.frame.DataFrame'>\n",
      "Int64Index: 42407 entries, 0 to 42514\n",
      "Data columns (total 44 columns):\n",
      " #   Column                   Non-Null Count  Dtype  \n",
      "---  ------                   --------------  -----  \n",
      " 0   loan_amnt                42407 non-null  float64\n",
      " 1   funded_amnt              42407 non-null  float64\n",
      " 2   funded_amnt_inv          42407 non-null  float64\n",
      " 3   term                     42407 non-null  float64\n",
      " 4   int_rate                 42407 non-null  float64\n",
      " 5   installment              42407 non-null  float64\n",
      " 6   grade                    42407 non-null  object \n",
      " 7   sub_grade                42407 non-null  object \n",
      " 8   emp_title                42407 non-null  object \n",
      " 9   emp_length               42407 non-null  object \n",
      " 10  home_ownership           42407 non-null  object \n",
      " 11  annual_inc               42407 non-null  float64\n",
      " 12  verification_status      42407 non-null  object \n",
      " 13  issue_d                  42407 non-null  object \n",
      " 14  loan_status              42407 non-null  object \n",
      " 15  purpose                  42407 non-null  object \n",
      " 16  title                    42407 non-null  object \n",
      " 17  addr_state               42407 non-null  object \n",
      " 18  dti                      42407 non-null  float64\n",
      " 19  delinq_2yrs              42407 non-null  float64\n",
      " 20  earliest_cr_line         42407 non-null  object \n",
      " 21  fico_range_low           42407 non-null  float64\n",
      " 22  fico_range_high          42407 non-null  float64\n",
      " 23  inq_last_6mths           42407 non-null  float64\n",
      " 24  open_acc                 42407 non-null  float64\n",
      " 25  pub_rec                  42407 non-null  float64\n",
      " 26  revol_bal                42407 non-null  float64\n",
      " 27  revol_util               42407 non-null  float64\n",
      " 28  total_acc                42407 non-null  float64\n",
      " 29  out_prncp                42407 non-null  float64\n",
      " 30  out_prncp_inv            42407 non-null  float64\n",
      " 31  total_pymnt              42407 non-null  float64\n",
      " 32  total_pymnt_inv          42407 non-null  float64\n",
      " 33  total_rec_prncp          42407 non-null  float64\n",
      " 34  total_rec_int            42407 non-null  float64\n",
      " 35  total_rec_late_fee       42407 non-null  float64\n",
      " 36  recoveries               42407 non-null  float64\n",
      " 37  collection_recovery_fee  42407 non-null  float64\n",
      " 38  last_pymnt_d             42407 non-null  object \n",
      " 39  last_pymnt_amnt          42407 non-null  float64\n",
      " 40  last_credit_pull_d       42407 non-null  object \n",
      " 41  last_fico_range_high     42407 non-null  float64\n",
      " 42  last_fico_range_low      42407 non-null  float64\n",
      " 43  pub_rec_bankruptcies     42407 non-null  float64\n",
      "dtypes: float64(30), object(14)\n",
      "memory usage: 14.6+ MB\n"
     ]
    }
   ],
   "source": [
    "loan_df.info()"
   ]
  },
  {
   "cell_type": "code",
   "execution_count": 63,
   "id": "f4d6f6fc",
   "metadata": {},
   "outputs": [
    {
     "name": "stdout",
     "output_type": "stream",
     "text": [
      "grade\n",
      "sub_grade\n",
      "emp_title\n",
      "emp_length\n",
      "home_ownership\n",
      "verification_status\n",
      "issue_d\n",
      "loan_status\n",
      "purpose\n",
      "title\n",
      "addr_state\n",
      "earliest_cr_line\n",
      "last_pymnt_d\n",
      "last_credit_pull_d\n"
     ]
    }
   ],
   "source": [
    "for i in loan_df.columns:\n",
    "    if loan_df[i].dtype =='object':\n",
    "        print(i)"
   ]
  },
  {
   "cell_type": "code",
   "execution_count": 64,
   "id": "72853cac",
   "metadata": {},
   "outputs": [
    {
     "name": "stdout",
     "output_type": "stream",
     "text": [
      "issue_d\n",
      "('Description is ---->', 'The month which the loan was funded')\n",
      "last_pymnt_d\n",
      "('Description is ---->', 'Last month payment was received')\n",
      "last_credit_pull_d\n",
      "('Description is ---->', 'The most recent month LC pulled credit for this loan')\n"
     ]
    }
   ],
   "source": [
    "for i in loan_df.columns:\n",
    "    if loan_df[i].dtype =='object':\n",
    "        if i[-1] =='d':\n",
    "            print(i)\n",
    "            print(search(i))"
   ]
  },
  {
   "cell_type": "code",
   "execution_count": 65,
   "id": "e2732e23",
   "metadata": {},
   "outputs": [
    {
     "name": "stdout",
     "output_type": "stream",
     "text": [
      "grade\n",
      "('Description is ---->', 'LC assigned loan grade')\n",
      "sub_grade\n",
      "('Description is ---->', 'LC assigned loan subgrade')\n",
      "emp_title\n",
      "('Description is ---->', 'The job title supplied by the Borrower when applying for the loan.*')\n",
      "emp_length\n",
      "('Description is ---->', 'Employment length in years. Possible values are between 0 and 10 where 0 means less than one year and 10 means ten or more years. ')\n",
      "home_ownership\n",
      "('Description is ---->', 'The home ownership status provided by the borrower during registration. Our values are: RENT, OWN, MORTGAGE, OTHER.')\n",
      "verification_status\n",
      "('Description is ---->', 'Indicates if income was verified by LC, not verified, or if the income source was verified')\n",
      "loan_status\n",
      "('Description is ---->', 'Current status of the loan')\n",
      "purpose\n",
      "('Description is ---->', 'A category provided by the borrower for the loan request. ')\n",
      "title\n",
      "('Description is ---->', 'The loan title provided by the borrower')\n",
      "addr_state\n",
      "('Description is ---->', 'The state provided by the borrower in the loan application')\n",
      "earliest_cr_line\n",
      "('Description is ---->', \"The month the borrower's earliest reported credit line was opened\")\n"
     ]
    }
   ],
   "source": [
    "# Checking if their any other object variable with date-time data\n",
    "for i in loan_df.columns:\n",
    "    if loan_df[i].dtype =='object':\n",
    "        if i[-1] !='d':\n",
    "            print(i)\n",
    "            print(search(i))"
   ]
  },
  {
   "cell_type": "code",
   "execution_count": 66,
   "id": "87fbe454",
   "metadata": {},
   "outputs": [],
   "source": [
    "col_to_dtime=['issue_d','last_pymnt_d','last_credit_pull_d','earliest_cr_line']\n",
    "for i in col_to_dtime:\n",
    "    loan_df[i]=pd.to_datetime(loan_df[str(i)])"
   ]
  },
  {
   "cell_type": "code",
   "execution_count": 67,
   "id": "335c0df0",
   "metadata": {},
   "outputs": [
    {
     "name": "stdout",
     "output_type": "stream",
     "text": [
      "<class 'pandas.core.frame.DataFrame'>\n",
      "Int64Index: 42407 entries, 0 to 42514\n",
      "Data columns (total 44 columns):\n",
      " #   Column                   Non-Null Count  Dtype         \n",
      "---  ------                   --------------  -----         \n",
      " 0   loan_amnt                42407 non-null  float64       \n",
      " 1   funded_amnt              42407 non-null  float64       \n",
      " 2   funded_amnt_inv          42407 non-null  float64       \n",
      " 3   term                     42407 non-null  float64       \n",
      " 4   int_rate                 42407 non-null  float64       \n",
      " 5   installment              42407 non-null  float64       \n",
      " 6   grade                    42407 non-null  object        \n",
      " 7   sub_grade                42407 non-null  object        \n",
      " 8   emp_title                42407 non-null  object        \n",
      " 9   emp_length               42407 non-null  object        \n",
      " 10  home_ownership           42407 non-null  object        \n",
      " 11  annual_inc               42407 non-null  float64       \n",
      " 12  verification_status      42407 non-null  object        \n",
      " 13  issue_d                  42407 non-null  datetime64[ns]\n",
      " 14  loan_status              42407 non-null  object        \n",
      " 15  purpose                  42407 non-null  object        \n",
      " 16  title                    42407 non-null  object        \n",
      " 17  addr_state               42407 non-null  object        \n",
      " 18  dti                      42407 non-null  float64       \n",
      " 19  delinq_2yrs              42407 non-null  float64       \n",
      " 20  earliest_cr_line         42407 non-null  datetime64[ns]\n",
      " 21  fico_range_low           42407 non-null  float64       \n",
      " 22  fico_range_high          42407 non-null  float64       \n",
      " 23  inq_last_6mths           42407 non-null  float64       \n",
      " 24  open_acc                 42407 non-null  float64       \n",
      " 25  pub_rec                  42407 non-null  float64       \n",
      " 26  revol_bal                42407 non-null  float64       \n",
      " 27  revol_util               42407 non-null  float64       \n",
      " 28  total_acc                42407 non-null  float64       \n",
      " 29  out_prncp                42407 non-null  float64       \n",
      " 30  out_prncp_inv            42407 non-null  float64       \n",
      " 31  total_pymnt              42407 non-null  float64       \n",
      " 32  total_pymnt_inv          42407 non-null  float64       \n",
      " 33  total_rec_prncp          42407 non-null  float64       \n",
      " 34  total_rec_int            42407 non-null  float64       \n",
      " 35  total_rec_late_fee       42407 non-null  float64       \n",
      " 36  recoveries               42407 non-null  float64       \n",
      " 37  collection_recovery_fee  42407 non-null  float64       \n",
      " 38  last_pymnt_d             42407 non-null  datetime64[ns]\n",
      " 39  last_pymnt_amnt          42407 non-null  float64       \n",
      " 40  last_credit_pull_d       42407 non-null  datetime64[ns]\n",
      " 41  last_fico_range_high     42407 non-null  float64       \n",
      " 42  last_fico_range_low      42407 non-null  float64       \n",
      " 43  pub_rec_bankruptcies     42407 non-null  float64       \n",
      "dtypes: datetime64[ns](4), float64(30), object(10)\n",
      "memory usage: 14.6+ MB\n"
     ]
    }
   ],
   "source": [
    "loan_df.info()"
   ]
  },
  {
   "cell_type": "markdown",
   "id": "8d181f96",
   "metadata": {},
   "source": [
    "**saving to new csv**"
   ]
  },
  {
   "cell_type": "code",
   "execution_count": 68,
   "id": "b6f28030",
   "metadata": {},
   "outputs": [],
   "source": [
    "loan_df.to_csv('Clean Lending Club Loans')"
   ]
  },
  {
   "cell_type": "code",
   "execution_count": null,
   "id": "36bd2bb0",
   "metadata": {},
   "outputs": [],
   "source": []
  }
 ],
 "metadata": {
  "kernelspec": {
   "display_name": "Python 3 (ipykernel)",
   "language": "python",
   "name": "python3"
  },
  "language_info": {
   "codemirror_mode": {
    "name": "ipython",
    "version": 3
   },
   "file_extension": ".py",
   "mimetype": "text/x-python",
   "name": "python",
   "nbconvert_exporter": "python",
   "pygments_lexer": "ipython3",
   "version": "3.9.7"
  }
 },
 "nbformat": 4,
 "nbformat_minor": 5
}
