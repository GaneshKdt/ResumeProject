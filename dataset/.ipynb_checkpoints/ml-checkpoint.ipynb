{
 "cells": [
  {
   "cell_type": "markdown",
   "id": "df5bdafb",
   "metadata": {},
   "source": [
    "# Building Machine Learning Model"
   ]
  },
  {
   "cell_type": "code",
   "execution_count": 1,
   "id": "5c46b517",
   "metadata": {},
   "outputs": [],
   "source": [
    "import numpy as np\n",
    "import pandas as pd\n",
    "import matplotlib.pyplot as plt\n",
    "import seaborn as sns\n",
    "\n",
    "import warnings\n",
    "warnings.filterwarnings('ignore')"
   ]
  },
  {
   "cell_type": "code",
   "execution_count": 2,
   "id": "1f117eab",
   "metadata": {},
   "outputs": [],
   "source": [
    "df=pd.read_csv('ml_new')"
   ]
  },
  {
   "cell_type": "code",
   "execution_count": 3,
   "id": "48ebb753",
   "metadata": {},
   "outputs": [
    {
     "data": {
      "text/html": [
       "<div>\n",
       "<style scoped>\n",
       "    .dataframe tbody tr th:only-of-type {\n",
       "        vertical-align: middle;\n",
       "    }\n",
       "\n",
       "    .dataframe tbody tr th {\n",
       "        vertical-align: top;\n",
       "    }\n",
       "\n",
       "    .dataframe thead th {\n",
       "        text-align: right;\n",
       "    }\n",
       "</style>\n",
       "<table border=\"1\" class=\"dataframe\">\n",
       "  <thead>\n",
       "    <tr style=\"text-align: right;\">\n",
       "      <th></th>\n",
       "      <th>id</th>\n",
       "      <th>member_id</th>\n",
       "      <th>loan_amnt</th>\n",
       "      <th>funded_amnt</th>\n",
       "      <th>funded_amnt_inv</th>\n",
       "      <th>term</th>\n",
       "      <th>int_rate</th>\n",
       "      <th>installment</th>\n",
       "      <th>grade</th>\n",
       "      <th>sub_grade</th>\n",
       "      <th>...</th>\n",
       "      <th>total_rec_int</th>\n",
       "      <th>total_rec_late_fee</th>\n",
       "      <th>recoveries</th>\n",
       "      <th>collection_recovery_fee</th>\n",
       "      <th>last_pymnt_d</th>\n",
       "      <th>last_pymnt_amnt</th>\n",
       "      <th>last_credit_pull_d</th>\n",
       "      <th>last_fico_range_high</th>\n",
       "      <th>last_fico_range_low</th>\n",
       "      <th>pub_rec_bankruptcies</th>\n",
       "    </tr>\n",
       "  </thead>\n",
       "  <tbody>\n",
       "    <tr>\n",
       "      <th>0</th>\n",
       "      <td>1077501</td>\n",
       "      <td>1296599.0</td>\n",
       "      <td>5000.0</td>\n",
       "      <td>5000.0</td>\n",
       "      <td>4975.0</td>\n",
       "      <td>36</td>\n",
       "      <td>10.65</td>\n",
       "      <td>162.87</td>\n",
       "      <td>B</td>\n",
       "      <td>B2</td>\n",
       "      <td>...</td>\n",
       "      <td>863.16</td>\n",
       "      <td>0.00</td>\n",
       "      <td>0.00</td>\n",
       "      <td>0.00</td>\n",
       "      <td>2015-01-01</td>\n",
       "      <td>171.62</td>\n",
       "      <td>2016-09-01</td>\n",
       "      <td>744.0</td>\n",
       "      <td>740.0</td>\n",
       "      <td>0.0</td>\n",
       "    </tr>\n",
       "    <tr>\n",
       "      <th>1</th>\n",
       "      <td>1077430</td>\n",
       "      <td>1314167.0</td>\n",
       "      <td>2500.0</td>\n",
       "      <td>2500.0</td>\n",
       "      <td>2500.0</td>\n",
       "      <td>60</td>\n",
       "      <td>15.27</td>\n",
       "      <td>59.83</td>\n",
       "      <td>C</td>\n",
       "      <td>C4</td>\n",
       "      <td>...</td>\n",
       "      <td>435.17</td>\n",
       "      <td>0.00</td>\n",
       "      <td>117.08</td>\n",
       "      <td>1.11</td>\n",
       "      <td>2013-04-01</td>\n",
       "      <td>119.66</td>\n",
       "      <td>2016-09-01</td>\n",
       "      <td>499.0</td>\n",
       "      <td>0.0</td>\n",
       "      <td>0.0</td>\n",
       "    </tr>\n",
       "    <tr>\n",
       "      <th>2</th>\n",
       "      <td>1077175</td>\n",
       "      <td>1313524.0</td>\n",
       "      <td>2400.0</td>\n",
       "      <td>2400.0</td>\n",
       "      <td>2400.0</td>\n",
       "      <td>36</td>\n",
       "      <td>15.96</td>\n",
       "      <td>84.33</td>\n",
       "      <td>C</td>\n",
       "      <td>C5</td>\n",
       "      <td>...</td>\n",
       "      <td>605.67</td>\n",
       "      <td>0.00</td>\n",
       "      <td>0.00</td>\n",
       "      <td>0.00</td>\n",
       "      <td>2014-06-01</td>\n",
       "      <td>649.91</td>\n",
       "      <td>2016-09-01</td>\n",
       "      <td>719.0</td>\n",
       "      <td>715.0</td>\n",
       "      <td>0.0</td>\n",
       "    </tr>\n",
       "    <tr>\n",
       "      <th>3</th>\n",
       "      <td>1076863</td>\n",
       "      <td>1277178.0</td>\n",
       "      <td>10000.0</td>\n",
       "      <td>10000.0</td>\n",
       "      <td>10000.0</td>\n",
       "      <td>36</td>\n",
       "      <td>13.49</td>\n",
       "      <td>339.31</td>\n",
       "      <td>C</td>\n",
       "      <td>C1</td>\n",
       "      <td>...</td>\n",
       "      <td>2214.92</td>\n",
       "      <td>16.97</td>\n",
       "      <td>0.00</td>\n",
       "      <td>0.00</td>\n",
       "      <td>2015-01-01</td>\n",
       "      <td>357.48</td>\n",
       "      <td>2016-04-01</td>\n",
       "      <td>604.0</td>\n",
       "      <td>600.0</td>\n",
       "      <td>0.0</td>\n",
       "    </tr>\n",
       "    <tr>\n",
       "      <th>4</th>\n",
       "      <td>1075358</td>\n",
       "      <td>1311748.0</td>\n",
       "      <td>3000.0</td>\n",
       "      <td>3000.0</td>\n",
       "      <td>3000.0</td>\n",
       "      <td>60</td>\n",
       "      <td>12.69</td>\n",
       "      <td>67.79</td>\n",
       "      <td>B</td>\n",
       "      <td>B5</td>\n",
       "      <td>...</td>\n",
       "      <td>1055.27</td>\n",
       "      <td>0.00</td>\n",
       "      <td>0.00</td>\n",
       "      <td>0.00</td>\n",
       "      <td>2016-09-01</td>\n",
       "      <td>67.79</td>\n",
       "      <td>2016-09-01</td>\n",
       "      <td>694.0</td>\n",
       "      <td>690.0</td>\n",
       "      <td>0.0</td>\n",
       "    </tr>\n",
       "  </tbody>\n",
       "</table>\n",
       "<p>5 rows × 47 columns</p>\n",
       "</div>"
      ],
      "text/plain": [
       "        id  member_id  loan_amnt  funded_amnt  funded_amnt_inv  term  \\\n",
       "0  1077501  1296599.0     5000.0       5000.0           4975.0    36   \n",
       "1  1077430  1314167.0     2500.0       2500.0           2500.0    60   \n",
       "2  1077175  1313524.0     2400.0       2400.0           2400.0    36   \n",
       "3  1076863  1277178.0    10000.0      10000.0          10000.0    36   \n",
       "4  1075358  1311748.0     3000.0       3000.0           3000.0    60   \n",
       "\n",
       "   int_rate  installment grade sub_grade  ... total_rec_int  \\\n",
       "0     10.65       162.87     B        B2  ...        863.16   \n",
       "1     15.27        59.83     C        C4  ...        435.17   \n",
       "2     15.96        84.33     C        C5  ...        605.67   \n",
       "3     13.49       339.31     C        C1  ...       2214.92   \n",
       "4     12.69        67.79     B        B5  ...       1055.27   \n",
       "\n",
       "  total_rec_late_fee recoveries  collection_recovery_fee last_pymnt_d  \\\n",
       "0               0.00       0.00                     0.00   2015-01-01   \n",
       "1               0.00     117.08                     1.11   2013-04-01   \n",
       "2               0.00       0.00                     0.00   2014-06-01   \n",
       "3              16.97       0.00                     0.00   2015-01-01   \n",
       "4               0.00       0.00                     0.00   2016-09-01   \n",
       "\n",
       "  last_pymnt_amnt last_credit_pull_d last_fico_range_high last_fico_range_low  \\\n",
       "0          171.62         2016-09-01                744.0               740.0   \n",
       "1          119.66         2016-09-01                499.0                 0.0   \n",
       "2          649.91         2016-09-01                719.0               715.0   \n",
       "3          357.48         2016-04-01                604.0               600.0   \n",
       "4           67.79         2016-09-01                694.0               690.0   \n",
       "\n",
       "  pub_rec_bankruptcies  \n",
       "0                  0.0  \n",
       "1                  0.0  \n",
       "2                  0.0  \n",
       "3                  0.0  \n",
       "4                  0.0  \n",
       "\n",
       "[5 rows x 47 columns]"
      ]
     },
     "execution_count": 3,
     "metadata": {},
     "output_type": "execute_result"
    }
   ],
   "source": [
    "df.drop('Unnamed: 0',axis=1,inplace=True)\n",
    "df.head()"
   ]
  },
  {
   "cell_type": "code",
   "execution_count": 4,
   "id": "90276c96",
   "metadata": {},
   "outputs": [
    {
     "name": "stdout",
     "output_type": "stream",
     "text": [
      "<class 'pandas.core.frame.DataFrame'>\n",
      "RangeIndex: 42350 entries, 0 to 42349\n",
      "Data columns (total 47 columns):\n",
      " #   Column                   Non-Null Count  Dtype  \n",
      "---  ------                   --------------  -----  \n",
      " 0   id                       42350 non-null  int64  \n",
      " 1   member_id                42350 non-null  float64\n",
      " 2   loan_amnt                42350 non-null  float64\n",
      " 3   funded_amnt              42350 non-null  float64\n",
      " 4   funded_amnt_inv          42350 non-null  float64\n",
      " 5   term                     42350 non-null  int64  \n",
      " 6   int_rate                 42350 non-null  float64\n",
      " 7   installment              42350 non-null  float64\n",
      " 8   grade                    42350 non-null  object \n",
      " 9   sub_grade                42350 non-null  object \n",
      " 10  emp_title                42350 non-null  object \n",
      " 11  emp_length               42350 non-null  object \n",
      " 12  home_ownership           42350 non-null  object \n",
      " 13  annual_inc               42350 non-null  float64\n",
      " 14  verification_status      42350 non-null  object \n",
      " 15  issue_d                  42350 non-null  object \n",
      " 16  loan_status              42350 non-null  object \n",
      " 17  purpose                  42350 non-null  object \n",
      " 18  title                    42350 non-null  object \n",
      " 19  zip_code                 42350 non-null  object \n",
      " 20  addr_state               42350 non-null  object \n",
      " 21  dti                      42350 non-null  float64\n",
      " 22  delinq_2yrs              42350 non-null  float64\n",
      " 23  earliest_cr_line         42350 non-null  object \n",
      " 24  fico_range_low           42350 non-null  float64\n",
      " 25  fico_range_high          42350 non-null  float64\n",
      " 26  inq_last_6mths           42350 non-null  float64\n",
      " 27  open_acc                 42350 non-null  float64\n",
      " 28  pub_rec                  42350 non-null  float64\n",
      " 29  revol_bal                42350 non-null  float64\n",
      " 30  revol_util               42350 non-null  float64\n",
      " 31  total_acc                42350 non-null  float64\n",
      " 32  out_prncp                42350 non-null  float64\n",
      " 33  out_prncp_inv            42350 non-null  float64\n",
      " 34  total_pymnt              42350 non-null  float64\n",
      " 35  total_pymnt_inv          42350 non-null  float64\n",
      " 36  total_rec_prncp          42350 non-null  float64\n",
      " 37  total_rec_int            42350 non-null  float64\n",
      " 38  total_rec_late_fee       42350 non-null  float64\n",
      " 39  recoveries               42350 non-null  float64\n",
      " 40  collection_recovery_fee  42350 non-null  float64\n",
      " 41  last_pymnt_d             42350 non-null  object \n",
      " 42  last_pymnt_amnt          42350 non-null  float64\n",
      " 43  last_credit_pull_d       42350 non-null  object \n",
      " 44  last_fico_range_high     42350 non-null  float64\n",
      " 45  last_fico_range_low      42350 non-null  float64\n",
      " 46  pub_rec_bankruptcies     42350 non-null  float64\n",
      "dtypes: float64(30), int64(2), object(15)\n",
      "memory usage: 15.2+ MB\n"
     ]
    }
   ],
   "source": [
    "df.info()"
   ]
  },
  {
   "cell_type": "markdown",
   "id": "2b864239",
   "metadata": {},
   "source": [
    "# Data Preparation\n"
   ]
  },
  {
   "cell_type": "code",
   "execution_count": 5,
   "id": "c878c5f7",
   "metadata": {},
   "outputs": [
    {
     "data": {
      "text/plain": [
       "Index(['id', 'member_id', 'loan_amnt', 'funded_amnt', 'funded_amnt_inv',\n",
       "       'term', 'int_rate', 'installment', 'grade', 'sub_grade', 'emp_title',\n",
       "       'emp_length', 'home_ownership', 'annual_inc', 'verification_status',\n",
       "       'issue_d', 'loan_status', 'purpose', 'title', 'zip_code', 'addr_state',\n",
       "       'dti', 'delinq_2yrs', 'earliest_cr_line', 'fico_range_low',\n",
       "       'fico_range_high', 'inq_last_6mths', 'open_acc', 'pub_rec', 'revol_bal',\n",
       "       'revol_util', 'total_acc', 'out_prncp', 'out_prncp_inv', 'total_pymnt',\n",
       "       'total_pymnt_inv', 'total_rec_prncp', 'total_rec_int',\n",
       "       'total_rec_late_fee', 'recoveries', 'collection_recovery_fee',\n",
       "       'last_pymnt_d', 'last_pymnt_amnt', 'last_credit_pull_d',\n",
       "       'last_fico_range_high', 'last_fico_range_low', 'pub_rec_bankruptcies'],\n",
       "      dtype='object')"
      ]
     },
     "execution_count": 5,
     "metadata": {},
     "output_type": "execute_result"
    }
   ],
   "source": [
    "df.columns"
   ]
  },
  {
   "cell_type": "code",
   "execution_count": 6,
   "id": "e04595dc",
   "metadata": {},
   "outputs": [],
   "source": [
    "col_drop=['id','member_id','funded_amnt','funded_amnt_inv','sub_grade','emp_title','issue_d','zip_code',\n",
    "          'out_prncp','out_prncp_inv', 'total_pymnt','total_pymnt_inv','total_rec_prncp','total_rec_int',\n",
    "          'total_rec_late_fee','recoveries','collection_recovery_fee','last_pymnt_d','last_pymnt_amnt',]"
   ]
  },
  {
   "cell_type": "code",
   "execution_count": 7,
   "id": "0947a7c7",
   "metadata": {},
   "outputs": [],
   "source": [
    "df.drop(columns=col_drop,axis=1,inplace=True)"
   ]
  },
  {
   "cell_type": "code",
   "execution_count": 8,
   "id": "6465056b",
   "metadata": {},
   "outputs": [
    {
     "data": {
      "text/plain": [
       "Index(['loan_amnt', 'term', 'int_rate', 'installment', 'grade', 'emp_length',\n",
       "       'home_ownership', 'annual_inc', 'verification_status', 'loan_status',\n",
       "       'purpose', 'title', 'addr_state', 'dti', 'delinq_2yrs',\n",
       "       'earliest_cr_line', 'fico_range_low', 'fico_range_high',\n",
       "       'inq_last_6mths', 'open_acc', 'pub_rec', 'revol_bal', 'revol_util',\n",
       "       'total_acc', 'last_credit_pull_d', 'last_fico_range_high',\n",
       "       'last_fico_range_low', 'pub_rec_bankruptcies'],\n",
       "      dtype='object')"
      ]
     },
     "execution_count": 8,
     "metadata": {},
     "output_type": "execute_result"
    }
   ],
   "source": [
    "df.columns"
   ]
  },
  {
   "cell_type": "code",
   "execution_count": 9,
   "id": "6923bf96",
   "metadata": {},
   "outputs": [
    {
     "data": {
      "text/plain": [
       "Debt Consolidation         2255\n",
       "Debt Consolidation Loan    1755\n",
       "Personal Loan               706\n",
       "Consolidation               545\n",
       "debt consolidation          532\n",
       "                           ... \n",
       "Health and well being         1\n",
       "AB Consolidation Loan         1\n",
       "My Debt Conso Loan            1\n",
       "GM card re-fi                 1\n",
       "VISA                          1\n",
       "Name: title, Length: 21173, dtype: int64"
      ]
     },
     "execution_count": 9,
     "metadata": {},
     "output_type": "execute_result"
    }
   ],
   "source": [
    "df['title'].value_counts()"
   ]
  },
  {
   "cell_type": "code",
   "execution_count": 10,
   "id": "cf3b9c90",
   "metadata": {},
   "outputs": [
    {
     "data": {
      "text/plain": [
       "CA    7398\n",
       "NY    4045\n",
       "FL    3093\n",
       "TX    2896\n",
       "NJ    1976\n",
       "IL    1667\n",
       "PA    1643\n",
       "GA    1500\n",
       "VA    1481\n",
       "MA    1432\n",
       "OH    1321\n",
       "MD    1118\n",
       "AZ     928\n",
       "WA     886\n",
       "CO     854\n",
       "NC     827\n",
       "CT     812\n",
       "MI     794\n",
       "MO     759\n",
       "MN     648\n",
       "NV     526\n",
       "WI     514\n",
       "SC     489\n",
       "AL     482\n",
       "OR     467\n",
       "LA     460\n",
       "KY     356\n",
       "OK     316\n",
       "KS     296\n",
       "UT     278\n",
       "AR     260\n",
       "DC     222\n",
       "RI     208\n",
       "NM     205\n",
       "NH     188\n",
       "WV     186\n",
       "HI     180\n",
       "DE     135\n",
       "MT      96\n",
       "WY      87\n",
       "AK      86\n",
       "SD      66\n",
       "VT      57\n",
       "TN      32\n",
       "MS      26\n",
       "IN      19\n",
       "IA      12\n",
       "NE      11\n",
       "ID       9\n",
       "ME       3\n",
       "Name: addr_state, dtype: int64"
      ]
     },
     "execution_count": 10,
     "metadata": {},
     "output_type": "execute_result"
    }
   ],
   "source": [
    "df['addr_state'].value_counts()"
   ]
  },
  {
   "cell_type": "code",
   "execution_count": 11,
   "id": "3c204f8a",
   "metadata": {},
   "outputs": [],
   "source": [
    "col_drop=['title','addr_state']\n",
    "df.drop(columns=col_drop,axis=1,inplace=True)"
   ]
  },
  {
   "cell_type": "code",
   "execution_count": 12,
   "id": "5be74b6b",
   "metadata": {},
   "outputs": [
    {
     "data": {
      "text/plain": [
       "Index(['loan_amnt', 'term', 'int_rate', 'installment', 'grade', 'emp_length',\n",
       "       'home_ownership', 'annual_inc', 'verification_status', 'loan_status',\n",
       "       'purpose', 'dti', 'delinq_2yrs', 'earliest_cr_line', 'fico_range_low',\n",
       "       'fico_range_high', 'inq_last_6mths', 'open_acc', 'pub_rec', 'revol_bal',\n",
       "       'revol_util', 'total_acc', 'last_credit_pull_d', 'last_fico_range_high',\n",
       "       'last_fico_range_low', 'pub_rec_bankruptcies'],\n",
       "      dtype='object')"
      ]
     },
     "execution_count": 12,
     "metadata": {},
     "output_type": "execute_result"
    }
   ],
   "source": [
    "df.columns"
   ]
  },
  {
   "cell_type": "markdown",
   "id": "8b34c9cd",
   "metadata": {},
   "source": [
    "**Checking FICO Score Columns**"
   ]
  },
  {
   "cell_type": "code",
   "execution_count": 13,
   "id": "14c80649",
   "metadata": {},
   "outputs": [
    {
     "data": {
      "text/plain": [
       "array([739., 744., 694., 699., 734., 664., 679., 729., 714., 709., 724.,\n",
       "       669., 674., 764., 689., 759., 684., 704., 794., 754., 719., 769.,\n",
       "       749., 774., 784., 779., 799., 814., 804., 819., 789., 809., 829.,\n",
       "       824., 634., 629., 654., 659., 649., 644., 639., 614., 624., 619.])"
      ]
     },
     "execution_count": 13,
     "metadata": {},
     "output_type": "execute_result"
    }
   ],
   "source": [
    "df['fico_range_high'].unique()"
   ]
  },
  {
   "cell_type": "code",
   "execution_count": 14,
   "id": "7f145799",
   "metadata": {},
   "outputs": [
    {
     "data": {
      "text/plain": [
       "array([735., 740., 690., 695., 730., 660., 675., 725., 710., 705., 720.,\n",
       "       665., 670., 760., 685., 755., 680., 700., 790., 750., 715., 765.,\n",
       "       745., 770., 780., 775., 795., 810., 800., 815., 785., 805., 825.,\n",
       "       820., 630., 625., 650., 655., 645., 640., 635., 610., 620., 615.])"
      ]
     },
     "execution_count": 14,
     "metadata": {},
     "output_type": "execute_result"
    }
   ],
   "source": [
    "df['fico_range_low'].unique()"
   ]
  },
  {
   "cell_type": "code",
   "execution_count": 15,
   "id": "72143ee5",
   "metadata": {},
   "outputs": [
    {
     "data": {
      "text/plain": [
       "<Figure size 720x576 with 0 Axes>"
      ]
     },
     "metadata": {},
     "output_type": "display_data"
    },
    {
     "data": {
      "image/png": "[encoded data removed]",
      "text/plain": [
       "<Figure size 432x288 with 1 Axes>"
      ]
     },
     "metadata": {
      "needs_background": "light"
     },
     "output_type": "display_data"
    }
   ],
   "source": [
    "plt.figure(figsize=(10,8))\n",
    "df[['fico_range_low','fico_range_high']].plot.hist(alpha=0.8, bins=20)\n",
    "plt.show()"
   ]
  },
  {
   "cell_type": "code",
   "execution_count": 16,
   "id": "22b7e472",
   "metadata": {},
   "outputs": [],
   "source": [
    "#FICO Score Average\n",
    "df['fico_range_avg']=(df['fico_range_low']+df['fico_range_high'])/2"
   ]
  },
  {
   "cell_type": "code",
   "execution_count": 17,
   "id": "ad1f4ba6",
   "metadata": {},
   "outputs": [
    {
     "data": {
      "text/html": [
       "<div>\n",
       "<style scoped>\n",
       "    .dataframe tbody tr th:only-of-type {\n",
       "        vertical-align: middle;\n",
       "    }\n",
       "\n",
       "    .dataframe tbody tr th {\n",
       "        vertical-align: top;\n",
       "    }\n",
       "\n",
       "    .dataframe thead th {\n",
       "        text-align: right;\n",
       "    }\n",
       "</style>\n",
       "<table border=\"1\" class=\"dataframe\">\n",
       "  <thead>\n",
       "    <tr style=\"text-align: right;\">\n",
       "      <th></th>\n",
       "      <th>fico_range_low</th>\n",
       "      <th>fico_range_high</th>\n",
       "      <th>fico_range_avg</th>\n",
       "    </tr>\n",
       "  </thead>\n",
       "  <tbody>\n",
       "    <tr>\n",
       "      <th>25097</th>\n",
       "      <td>785.0</td>\n",
       "      <td>789.0</td>\n",
       "      <td>787.0</td>\n",
       "    </tr>\n",
       "    <tr>\n",
       "      <th>19406</th>\n",
       "      <td>685.0</td>\n",
       "      <td>689.0</td>\n",
       "      <td>687.0</td>\n",
       "    </tr>\n",
       "    <tr>\n",
       "      <th>39394</th>\n",
       "      <td>745.0</td>\n",
       "      <td>749.0</td>\n",
       "      <td>747.0</td>\n",
       "    </tr>\n",
       "    <tr>\n",
       "      <th>37506</th>\n",
       "      <td>765.0</td>\n",
       "      <td>769.0</td>\n",
       "      <td>767.0</td>\n",
       "    </tr>\n",
       "    <tr>\n",
       "      <th>32271</th>\n",
       "      <td>735.0</td>\n",
       "      <td>739.0</td>\n",
       "      <td>737.0</td>\n",
       "    </tr>\n",
       "    <tr>\n",
       "      <th>39181</th>\n",
       "      <td>685.0</td>\n",
       "      <td>689.0</td>\n",
       "      <td>687.0</td>\n",
       "    </tr>\n",
       "    <tr>\n",
       "      <th>9222</th>\n",
       "      <td>720.0</td>\n",
       "      <td>724.0</td>\n",
       "      <td>722.0</td>\n",
       "    </tr>\n",
       "    <tr>\n",
       "      <th>2060</th>\n",
       "      <td>710.0</td>\n",
       "      <td>714.0</td>\n",
       "      <td>712.0</td>\n",
       "    </tr>\n",
       "    <tr>\n",
       "      <th>32449</th>\n",
       "      <td>705.0</td>\n",
       "      <td>709.0</td>\n",
       "      <td>707.0</td>\n",
       "    </tr>\n",
       "    <tr>\n",
       "      <th>4848</th>\n",
       "      <td>785.0</td>\n",
       "      <td>789.0</td>\n",
       "      <td>787.0</td>\n",
       "    </tr>\n",
       "  </tbody>\n",
       "</table>\n",
       "</div>"
      ],
      "text/plain": [
       "       fico_range_low  fico_range_high  fico_range_avg\n",
       "25097           785.0            789.0           787.0\n",
       "19406           685.0            689.0           687.0\n",
       "39394           745.0            749.0           747.0\n",
       "37506           765.0            769.0           767.0\n",
       "32271           735.0            739.0           737.0\n",
       "39181           685.0            689.0           687.0\n",
       "9222            720.0            724.0           722.0\n",
       "2060            710.0            714.0           712.0\n",
       "32449           705.0            709.0           707.0\n",
       "4848            785.0            789.0           787.0"
      ]
     },
     "execution_count": 17,
     "metadata": {},
     "output_type": "execute_result"
    }
   ],
   "source": [
    "df[['fico_range_low','fico_range_high','fico_range_avg']].sample(10)"
   ]
  },
  {
   "cell_type": "code",
   "execution_count": 18,
   "id": "db7351bf",
   "metadata": {},
   "outputs": [],
   "source": [
    "df.drop(columns=['fico_range_low','fico_range_high','last_fico_range_high','last_fico_range_low'],axis=1, inplace=True)"
   ]
  },
  {
   "cell_type": "code",
   "execution_count": 19,
   "id": "e8ba900b",
   "metadata": {},
   "outputs": [
    {
     "data": {
      "text/plain": [
       "Index(['loan_amnt', 'term', 'int_rate', 'installment', 'grade', 'emp_length',\n",
       "       'home_ownership', 'annual_inc', 'verification_status', 'loan_status',\n",
       "       'purpose', 'dti', 'delinq_2yrs', 'earliest_cr_line', 'inq_last_6mths',\n",
       "       'open_acc', 'pub_rec', 'revol_bal', 'revol_util', 'total_acc',\n",
       "       'last_credit_pull_d', 'pub_rec_bankruptcies', 'fico_range_avg'],\n",
       "      dtype='object')"
      ]
     },
     "execution_count": 19,
     "metadata": {},
     "output_type": "execute_result"
    }
   ],
   "source": [
    "df.columns"
   ]
  },
  {
   "cell_type": "code",
   "execution_count": 20,
   "id": "ff0fe588",
   "metadata": {},
   "outputs": [
    {
     "data": {
      "text/html": [
       "<div>\n",
       "<style scoped>\n",
       "    .dataframe tbody tr th:only-of-type {\n",
       "        vertical-align: middle;\n",
       "    }\n",
       "\n",
       "    .dataframe tbody tr th {\n",
       "        vertical-align: top;\n",
       "    }\n",
       "\n",
       "    .dataframe thead th {\n",
       "        text-align: right;\n",
       "    }\n",
       "</style>\n",
       "<table border=\"1\" class=\"dataframe\">\n",
       "  <thead>\n",
       "    <tr style=\"text-align: right;\">\n",
       "      <th></th>\n",
       "      <th>loan_amnt</th>\n",
       "      <th>term</th>\n",
       "      <th>int_rate</th>\n",
       "      <th>installment</th>\n",
       "      <th>annual_inc</th>\n",
       "      <th>dti</th>\n",
       "      <th>delinq_2yrs</th>\n",
       "      <th>inq_last_6mths</th>\n",
       "      <th>open_acc</th>\n",
       "      <th>pub_rec</th>\n",
       "      <th>revol_bal</th>\n",
       "      <th>revol_util</th>\n",
       "      <th>total_acc</th>\n",
       "      <th>pub_rec_bankruptcies</th>\n",
       "      <th>fico_range_avg</th>\n",
       "    </tr>\n",
       "  </thead>\n",
       "  <tbody>\n",
       "    <tr>\n",
       "      <th>count</th>\n",
       "      <td>42350.000000</td>\n",
       "      <td>42350.000000</td>\n",
       "      <td>42350.000000</td>\n",
       "      <td>42350.000000</td>\n",
       "      <td>4.235000e+04</td>\n",
       "      <td>42350.000000</td>\n",
       "      <td>42350.000000</td>\n",
       "      <td>42350.000000</td>\n",
       "      <td>42350.000000</td>\n",
       "      <td>42350.000000</td>\n",
       "      <td>4.235000e+04</td>\n",
       "      <td>42350.000000</td>\n",
       "      <td>42350.000000</td>\n",
       "      <td>42350.000000</td>\n",
       "      <td>42350.000000</td>\n",
       "    </tr>\n",
       "    <tr>\n",
       "      <th>mean</th>\n",
       "      <td>11109.211924</td>\n",
       "      <td>42.220165</td>\n",
       "      <td>12.158697</td>\n",
       "      <td>323.124979</td>\n",
       "      <td>6.920405e+04</td>\n",
       "      <td>13.383605</td>\n",
       "      <td>0.152326</td>\n",
       "      <td>1.079646</td>\n",
       "      <td>9.355089</td>\n",
       "      <td>0.058135</td>\n",
       "      <td>1.433006e+04</td>\n",
       "      <td>49.117218</td>\n",
       "      <td>22.152798</td>\n",
       "      <td>0.043778</td>\n",
       "      <td>715.092916</td>\n",
       "    </tr>\n",
       "    <tr>\n",
       "      <th>std</th>\n",
       "      <td>7409.408311</td>\n",
       "      <td>10.516469</td>\n",
       "      <td>3.707855</td>\n",
       "      <td>208.872033</td>\n",
       "      <td>6.413285e+04</td>\n",
       "      <td>6.723341</td>\n",
       "      <td>0.511880</td>\n",
       "      <td>1.526551</td>\n",
       "      <td>4.493806</td>\n",
       "      <td>0.245716</td>\n",
       "      <td>2.198694e+04</td>\n",
       "      <td>28.360825</td>\n",
       "      <td>11.585441</td>\n",
       "      <td>0.205525</td>\n",
       "      <td>36.189896</td>\n",
       "    </tr>\n",
       "    <tr>\n",
       "      <th>min</th>\n",
       "      <td>500.000000</td>\n",
       "      <td>36.000000</td>\n",
       "      <td>5.420000</td>\n",
       "      <td>15.670000</td>\n",
       "      <td>1.896000e+03</td>\n",
       "      <td>0.000000</td>\n",
       "      <td>0.000000</td>\n",
       "      <td>0.000000</td>\n",
       "      <td>1.000000</td>\n",
       "      <td>0.000000</td>\n",
       "      <td>0.000000e+00</td>\n",
       "      <td>0.000000</td>\n",
       "      <td>1.000000</td>\n",
       "      <td>0.000000</td>\n",
       "      <td>612.000000</td>\n",
       "    </tr>\n",
       "    <tr>\n",
       "      <th>25%</th>\n",
       "      <td>5200.000000</td>\n",
       "      <td>36.000000</td>\n",
       "      <td>9.620000</td>\n",
       "      <td>165.740000</td>\n",
       "      <td>4.000000e+04</td>\n",
       "      <td>8.210000</td>\n",
       "      <td>0.000000</td>\n",
       "      <td>0.000000</td>\n",
       "      <td>6.000000</td>\n",
       "      <td>0.000000</td>\n",
       "      <td>3.670000e+03</td>\n",
       "      <td>25.700000</td>\n",
       "      <td>13.000000</td>\n",
       "      <td>0.000000</td>\n",
       "      <td>687.000000</td>\n",
       "    </tr>\n",
       "    <tr>\n",
       "      <th>50%</th>\n",
       "      <td>9800.000000</td>\n",
       "      <td>36.000000</td>\n",
       "      <td>11.990000</td>\n",
       "      <td>278.410000</td>\n",
       "      <td>5.900000e+04</td>\n",
       "      <td>13.480000</td>\n",
       "      <td>0.000000</td>\n",
       "      <td>1.000000</td>\n",
       "      <td>9.000000</td>\n",
       "      <td>0.000000</td>\n",
       "      <td>8.858000e+03</td>\n",
       "      <td>49.700000</td>\n",
       "      <td>20.000000</td>\n",
       "      <td>0.000000</td>\n",
       "      <td>712.000000</td>\n",
       "    </tr>\n",
       "    <tr>\n",
       "      <th>75%</th>\n",
       "      <td>15000.000000</td>\n",
       "      <td>60.000000</td>\n",
       "      <td>14.720000</td>\n",
       "      <td>428.907500</td>\n",
       "      <td>8.250000e+04</td>\n",
       "      <td>18.690000</td>\n",
       "      <td>0.000000</td>\n",
       "      <td>2.000000</td>\n",
       "      <td>12.000000</td>\n",
       "      <td>0.000000</td>\n",
       "      <td>1.728375e+04</td>\n",
       "      <td>72.700000</td>\n",
       "      <td>29.000000</td>\n",
       "      <td>0.000000</td>\n",
       "      <td>742.000000</td>\n",
       "    </tr>\n",
       "    <tr>\n",
       "      <th>max</th>\n",
       "      <td>35000.000000</td>\n",
       "      <td>60.000000</td>\n",
       "      <td>24.590000</td>\n",
       "      <td>1305.190000</td>\n",
       "      <td>6.000000e+06</td>\n",
       "      <td>29.990000</td>\n",
       "      <td>13.000000</td>\n",
       "      <td>33.000000</td>\n",
       "      <td>47.000000</td>\n",
       "      <td>5.000000</td>\n",
       "      <td>1.207359e+06</td>\n",
       "      <td>119.000000</td>\n",
       "      <td>90.000000</td>\n",
       "      <td>2.000000</td>\n",
       "      <td>827.000000</td>\n",
       "    </tr>\n",
       "  </tbody>\n",
       "</table>\n",
       "</div>"
      ],
      "text/plain": [
       "          loan_amnt          term      int_rate   installment    annual_inc  \\\n",
       "count  42350.000000  42350.000000  42350.000000  42350.000000  4.235000e+04   \n",
       "mean   11109.211924     42.220165     12.158697    323.124979  6.920405e+04   \n",
       "std     7409.408311     10.516469      3.707855    208.872033  6.413285e+04   \n",
       "min      500.000000     36.000000      5.420000     15.670000  1.896000e+03   \n",
       "25%     5200.000000     36.000000      9.620000    165.740000  4.000000e+04   \n",
       "50%     9800.000000     36.000000     11.990000    278.410000  5.900000e+04   \n",
       "75%    15000.000000     60.000000     14.720000    428.907500  8.250000e+04   \n",
       "max    35000.000000     60.000000     24.590000   1305.190000  6.000000e+06   \n",
       "\n",
       "                dti   delinq_2yrs  inq_last_6mths      open_acc       pub_rec  \\\n",
       "count  42350.000000  42350.000000    42350.000000  42350.000000  42350.000000   \n",
       "mean      13.383605      0.152326        1.079646      9.355089      0.058135   \n",
       "std        6.723341      0.511880        1.526551      4.493806      0.245716   \n",
       "min        0.000000      0.000000        0.000000      1.000000      0.000000   \n",
       "25%        8.210000      0.000000        0.000000      6.000000      0.000000   \n",
       "50%       13.480000      0.000000        1.000000      9.000000      0.000000   \n",
       "75%       18.690000      0.000000        2.000000     12.000000      0.000000   \n",
       "max       29.990000     13.000000       33.000000     47.000000      5.000000   \n",
       "\n",
       "          revol_bal    revol_util     total_acc  pub_rec_bankruptcies  \\\n",
       "count  4.235000e+04  42350.000000  42350.000000          42350.000000   \n",
       "mean   1.433006e+04     49.117218     22.152798              0.043778   \n",
       "std    2.198694e+04     28.360825     11.585441              0.205525   \n",
       "min    0.000000e+00      0.000000      1.000000              0.000000   \n",
       "25%    3.670000e+03     25.700000     13.000000              0.000000   \n",
       "50%    8.858000e+03     49.700000     20.000000              0.000000   \n",
       "75%    1.728375e+04     72.700000     29.000000              0.000000   \n",
       "max    1.207359e+06    119.000000     90.000000              2.000000   \n",
       "\n",
       "       fico_range_avg  \n",
       "count    42350.000000  \n",
       "mean       715.092916  \n",
       "std         36.189896  \n",
       "min        612.000000  \n",
       "25%        687.000000  \n",
       "50%        712.000000  \n",
       "75%        742.000000  \n",
       "max        827.000000  "
      ]
     },
     "execution_count": 20,
     "metadata": {},
     "output_type": "execute_result"
    }
   ],
   "source": [
    "df.describe()"
   ]
  },
  {
   "cell_type": "code",
   "execution_count": 21,
   "id": "8354156e",
   "metadata": {},
   "outputs": [],
   "source": [
    "col_drop=['earliest_cr_line','open_acc','pub_rec','total_acc','last_credit_pull_d','pub_rec_bankruptcies']\n",
    "df.drop(columns=col_drop,axis=1,inplace=True)"
   ]
  },
  {
   "cell_type": "code",
   "execution_count": 22,
   "id": "feb593f4",
   "metadata": {},
   "outputs": [
    {
     "data": {
      "text/plain": [
       "Fully Paid                                             33542\n",
       "Charged Off                                             5567\n",
       "Does not meet the credit policy. Status:Fully Paid      1952\n",
       "Does not meet the credit policy. Status:Charged Off      742\n",
       "Current                                                  513\n",
       "In Grace Period                                           16\n",
       "Late (31-120 days)                                        12\n",
       "Late (16-30 days)                                          5\n",
       "Default                                                    1\n",
       "Name: loan_status, dtype: int64"
      ]
     },
     "execution_count": 22,
     "metadata": {},
     "output_type": "execute_result"
    }
   ],
   "source": [
    "df['loan_status'].value_counts()"
   ]
  },
  {
   "cell_type": "code",
   "execution_count": 23,
   "id": "e9a84fe3",
   "metadata": {},
   "outputs": [],
   "source": [
    "df = df[(df['loan_status']=='Fully Paid') | (df['loan_status']=='Charged Off')]"
   ]
  },
  {
   "cell_type": "code",
   "execution_count": 24,
   "id": "90c9c6f6",
   "metadata": {},
   "outputs": [],
   "source": [
    "df.reset_index(drop=True, inplace=True)"
   ]
  },
  {
   "cell_type": "code",
   "execution_count": 25,
   "id": "ff80cec4",
   "metadata": {},
   "outputs": [
    {
     "data": {
      "image/png": "[encoded data removed]",
      "text/plain": [
       "<Figure size 1008x504 with 2 Axes>"
      ]
     },
     "metadata": {
      "needs_background": "light"
     },
     "output_type": "display_data"
    }
   ],
   "source": [
    "fig, ax = plt.subplots(1,2, figsize=(14,7))\n",
    "sns.countplot(x='loan_status', data=df, ax=ax[0])\n",
    "ax[0].set_title('Frenquency of each Loan Status')\n",
    "df['loan_status'].value_counts().plot(kind='pie', ax=ax[1], autopct='%1.2f%%')\n",
    "ax[1].set_title('Percentage of each Loan Status')\n",
    "plt.show()"
   ]
  },
  {
   "cell_type": "code",
   "execution_count": 26,
   "id": "d4c63a61",
   "metadata": {},
   "outputs": [
    {
     "data": {
      "image/png": "[encoded data removed]",
      "text/plain": [
       "<Figure size 576x432 with 2 Axes>"
      ]
     },
     "metadata": {
      "needs_background": "light"
     },
     "output_type": "display_data"
    }
   ],
   "source": [
    "plt.figure(figsize=(8,6))\n",
    "sns.heatmap(df.corr(),annot=True)\n",
    "plt.show()"
   ]
  },
  {
   "cell_type": "markdown",
   "id": "f721a573",
   "metadata": {},
   "source": [
    "**Target Variable**"
   ]
  },
  {
   "cell_type": "code",
   "execution_count": 27,
   "id": "cb56b3cd",
   "metadata": {},
   "outputs": [],
   "source": [
    "x_df = df.drop(columns=['loan_status'], axis=1)\n",
    "y_df = df['loan_status']"
   ]
  },
  {
   "cell_type": "markdown",
   "id": "1cda8a40",
   "metadata": {},
   "source": [
    "# Encode Categorical Columns"
   ]
  },
  {
   "cell_type": "code",
   "execution_count": 28,
   "id": "bf872965",
   "metadata": {},
   "outputs": [
    {
     "name": "stdout",
     "output_type": "stream",
     "text": [
      "grade\n",
      "emp_length\n",
      "home_ownership\n",
      "verification_status\n",
      "purpose\n"
     ]
    }
   ],
   "source": [
    "cat_var=[]\n",
    "for i in x_df.columns:\n",
    "    if x_df[i].dtype=='object':\n",
    "        print(i)\n",
    "        cat_var.append(i)"
   ]
  },
  {
   "cell_type": "code",
   "execution_count": 29,
   "id": "012ac681",
   "metadata": {},
   "outputs": [],
   "source": [
    "for x in cat_var:\n",
    "    cat_list='var_'+x\n",
    "    cat_list=pd.get_dummies(x_df[x],prefix=x)\n",
    "    df1=x_df.join(cat_list)\n",
    "    x_df=df1"
   ]
  },
  {
   "cell_type": "code",
   "execution_count": 30,
   "id": "1ab95574",
   "metadata": {},
   "outputs": [
    {
     "data": {
      "text/plain": [
       "(39109, 56)"
      ]
     },
     "execution_count": 30,
     "metadata": {},
     "output_type": "execute_result"
    }
   ],
   "source": [
    "x_df.shape"
   ]
  },
  {
   "cell_type": "code",
   "execution_count": 31,
   "id": "4b98406c",
   "metadata": {},
   "outputs": [
    {
     "data": {
      "text/html": [
       "<div>\n",
       "<style scoped>\n",
       "    .dataframe tbody tr th:only-of-type {\n",
       "        vertical-align: middle;\n",
       "    }\n",
       "\n",
       "    .dataframe tbody tr th {\n",
       "        vertical-align: top;\n",
       "    }\n",
       "\n",
       "    .dataframe thead th {\n",
       "        text-align: right;\n",
       "    }\n",
       "</style>\n",
       "<table border=\"1\" class=\"dataframe\">\n",
       "  <thead>\n",
       "    <tr style=\"text-align: right;\">\n",
       "      <th></th>\n",
       "      <th>loan_amnt</th>\n",
       "      <th>term</th>\n",
       "      <th>int_rate</th>\n",
       "      <th>installment</th>\n",
       "      <th>grade</th>\n",
       "      <th>emp_length</th>\n",
       "      <th>home_ownership</th>\n",
       "      <th>annual_inc</th>\n",
       "      <th>verification_status</th>\n",
       "      <th>purpose</th>\n",
       "      <th>...</th>\n",
       "      <th>purpose_home_improvement</th>\n",
       "      <th>purpose_house</th>\n",
       "      <th>purpose_major_purchase</th>\n",
       "      <th>purpose_medical</th>\n",
       "      <th>purpose_moving</th>\n",
       "      <th>purpose_other</th>\n",
       "      <th>purpose_renewable_energy</th>\n",
       "      <th>purpose_small_business</th>\n",
       "      <th>purpose_vacation</th>\n",
       "      <th>purpose_wedding</th>\n",
       "    </tr>\n",
       "  </thead>\n",
       "  <tbody>\n",
       "    <tr>\n",
       "      <th>32224</th>\n",
       "      <td>20000.0</td>\n",
       "      <td>36</td>\n",
       "      <td>11.83</td>\n",
       "      <td>662.68</td>\n",
       "      <td>B</td>\n",
       "      <td>5 years</td>\n",
       "      <td>MORTGAGE</td>\n",
       "      <td>105000.0</td>\n",
       "      <td>Not Verified</td>\n",
       "      <td>debt_consolidation</td>\n",
       "      <td>...</td>\n",
       "      <td>0</td>\n",
       "      <td>0</td>\n",
       "      <td>0</td>\n",
       "      <td>0</td>\n",
       "      <td>0</td>\n",
       "      <td>0</td>\n",
       "      <td>0</td>\n",
       "      <td>0</td>\n",
       "      <td>0</td>\n",
       "      <td>0</td>\n",
       "    </tr>\n",
       "  </tbody>\n",
       "</table>\n",
       "<p>1 rows × 56 columns</p>\n",
       "</div>"
      ],
      "text/plain": [
       "       loan_amnt  term  int_rate  installment grade emp_length home_ownership  \\\n",
       "32224    20000.0    36     11.83       662.68     B    5 years       MORTGAGE   \n",
       "\n",
       "       annual_inc verification_status             purpose  ...  \\\n",
       "32224    105000.0        Not Verified  debt_consolidation  ...   \n",
       "\n",
       "       purpose_home_improvement  purpose_house  purpose_major_purchase  \\\n",
       "32224                         0              0                       0   \n",
       "\n",
       "       purpose_medical  purpose_moving  purpose_other  \\\n",
       "32224                0               0              0   \n",
       "\n",
       "       purpose_renewable_energy  purpose_small_business  purpose_vacation  \\\n",
       "32224                         0                       0                 0   \n",
       "\n",
       "       purpose_wedding  \n",
       "32224                0  \n",
       "\n",
       "[1 rows x 56 columns]"
      ]
     },
     "execution_count": 31,
     "metadata": {},
     "output_type": "execute_result"
    }
   ],
   "source": [
    "x_df.sample()"
   ]
  },
  {
   "cell_type": "code",
   "execution_count": 32,
   "id": "6d273ad7",
   "metadata": {},
   "outputs": [],
   "source": [
    "x_df.drop(columns=cat_var,axis=1,inplace=True)"
   ]
  },
  {
   "cell_type": "code",
   "execution_count": 33,
   "id": "3db29bfc",
   "metadata": {},
   "outputs": [
    {
     "data": {
      "text/html": [
       "<div>\n",
       "<style scoped>\n",
       "    .dataframe tbody tr th:only-of-type {\n",
       "        vertical-align: middle;\n",
       "    }\n",
       "\n",
       "    .dataframe tbody tr th {\n",
       "        vertical-align: top;\n",
       "    }\n",
       "\n",
       "    .dataframe thead th {\n",
       "        text-align: right;\n",
       "    }\n",
       "</style>\n",
       "<table border=\"1\" class=\"dataframe\">\n",
       "  <thead>\n",
       "    <tr style=\"text-align: right;\">\n",
       "      <th></th>\n",
       "      <th>loan_amnt</th>\n",
       "      <th>term</th>\n",
       "      <th>int_rate</th>\n",
       "      <th>installment</th>\n",
       "      <th>annual_inc</th>\n",
       "      <th>dti</th>\n",
       "      <th>delinq_2yrs</th>\n",
       "      <th>inq_last_6mths</th>\n",
       "      <th>revol_bal</th>\n",
       "      <th>revol_util</th>\n",
       "      <th>...</th>\n",
       "      <th>purpose_home_improvement</th>\n",
       "      <th>purpose_house</th>\n",
       "      <th>purpose_major_purchase</th>\n",
       "      <th>purpose_medical</th>\n",
       "      <th>purpose_moving</th>\n",
       "      <th>purpose_other</th>\n",
       "      <th>purpose_renewable_energy</th>\n",
       "      <th>purpose_small_business</th>\n",
       "      <th>purpose_vacation</th>\n",
       "      <th>purpose_wedding</th>\n",
       "    </tr>\n",
       "  </thead>\n",
       "  <tbody>\n",
       "    <tr>\n",
       "      <th>0</th>\n",
       "      <td>5000.0</td>\n",
       "      <td>36</td>\n",
       "      <td>10.65</td>\n",
       "      <td>162.87</td>\n",
       "      <td>24000.0</td>\n",
       "      <td>27.65</td>\n",
       "      <td>0.0</td>\n",
       "      <td>1.0</td>\n",
       "      <td>13648.0</td>\n",
       "      <td>83.7</td>\n",
       "      <td>...</td>\n",
       "      <td>0</td>\n",
       "      <td>0</td>\n",
       "      <td>0</td>\n",
       "      <td>0</td>\n",
       "      <td>0</td>\n",
       "      <td>0</td>\n",
       "      <td>0</td>\n",
       "      <td>0</td>\n",
       "      <td>0</td>\n",
       "      <td>0</td>\n",
       "    </tr>\n",
       "    <tr>\n",
       "      <th>1</th>\n",
       "      <td>2500.0</td>\n",
       "      <td>60</td>\n",
       "      <td>15.27</td>\n",
       "      <td>59.83</td>\n",
       "      <td>30000.0</td>\n",
       "      <td>1.00</td>\n",
       "      <td>0.0</td>\n",
       "      <td>5.0</td>\n",
       "      <td>1687.0</td>\n",
       "      <td>9.4</td>\n",
       "      <td>...</td>\n",
       "      <td>0</td>\n",
       "      <td>0</td>\n",
       "      <td>0</td>\n",
       "      <td>0</td>\n",
       "      <td>0</td>\n",
       "      <td>0</td>\n",
       "      <td>0</td>\n",
       "      <td>0</td>\n",
       "      <td>0</td>\n",
       "      <td>0</td>\n",
       "    </tr>\n",
       "    <tr>\n",
       "      <th>2</th>\n",
       "      <td>2400.0</td>\n",
       "      <td>36</td>\n",
       "      <td>15.96</td>\n",
       "      <td>84.33</td>\n",
       "      <td>12252.0</td>\n",
       "      <td>8.72</td>\n",
       "      <td>0.0</td>\n",
       "      <td>2.0</td>\n",
       "      <td>2956.0</td>\n",
       "      <td>98.5</td>\n",
       "      <td>...</td>\n",
       "      <td>0</td>\n",
       "      <td>0</td>\n",
       "      <td>0</td>\n",
       "      <td>0</td>\n",
       "      <td>0</td>\n",
       "      <td>0</td>\n",
       "      <td>0</td>\n",
       "      <td>1</td>\n",
       "      <td>0</td>\n",
       "      <td>0</td>\n",
       "    </tr>\n",
       "    <tr>\n",
       "      <th>3</th>\n",
       "      <td>10000.0</td>\n",
       "      <td>36</td>\n",
       "      <td>13.49</td>\n",
       "      <td>339.31</td>\n",
       "      <td>49200.0</td>\n",
       "      <td>20.00</td>\n",
       "      <td>0.0</td>\n",
       "      <td>1.0</td>\n",
       "      <td>5598.0</td>\n",
       "      <td>21.0</td>\n",
       "      <td>...</td>\n",
       "      <td>0</td>\n",
       "      <td>0</td>\n",
       "      <td>0</td>\n",
       "      <td>0</td>\n",
       "      <td>0</td>\n",
       "      <td>1</td>\n",
       "      <td>0</td>\n",
       "      <td>0</td>\n",
       "      <td>0</td>\n",
       "      <td>0</td>\n",
       "    </tr>\n",
       "    <tr>\n",
       "      <th>4</th>\n",
       "      <td>5000.0</td>\n",
       "      <td>36</td>\n",
       "      <td>7.90</td>\n",
       "      <td>156.46</td>\n",
       "      <td>36000.0</td>\n",
       "      <td>11.20</td>\n",
       "      <td>0.0</td>\n",
       "      <td>3.0</td>\n",
       "      <td>7963.0</td>\n",
       "      <td>28.3</td>\n",
       "      <td>...</td>\n",
       "      <td>0</td>\n",
       "      <td>0</td>\n",
       "      <td>0</td>\n",
       "      <td>0</td>\n",
       "      <td>0</td>\n",
       "      <td>0</td>\n",
       "      <td>0</td>\n",
       "      <td>0</td>\n",
       "      <td>0</td>\n",
       "      <td>1</td>\n",
       "    </tr>\n",
       "  </tbody>\n",
       "</table>\n",
       "<p>5 rows × 51 columns</p>\n",
       "</div>"
      ],
      "text/plain": [
       "   loan_amnt  term  int_rate  installment  annual_inc    dti  delinq_2yrs  \\\n",
       "0     5000.0    36     10.65       162.87     24000.0  27.65          0.0   \n",
       "1     2500.0    60     15.27        59.83     30000.0   1.00          0.0   \n",
       "2     2400.0    36     15.96        84.33     12252.0   8.72          0.0   \n",
       "3    10000.0    36     13.49       339.31     49200.0  20.00          0.0   \n",
       "4     5000.0    36      7.90       156.46     36000.0  11.20          0.0   \n",
       "\n",
       "   inq_last_6mths  revol_bal  revol_util  ...  purpose_home_improvement  \\\n",
       "0             1.0    13648.0        83.7  ...                         0   \n",
       "1             5.0     1687.0         9.4  ...                         0   \n",
       "2             2.0     2956.0        98.5  ...                         0   \n",
       "3             1.0     5598.0        21.0  ...                         0   \n",
       "4             3.0     7963.0        28.3  ...                         0   \n",
       "\n",
       "   purpose_house  purpose_major_purchase  purpose_medical  purpose_moving  \\\n",
       "0              0                       0                0               0   \n",
       "1              0                       0                0               0   \n",
       "2              0                       0                0               0   \n",
       "3              0                       0                0               0   \n",
       "4              0                       0                0               0   \n",
       "\n",
       "   purpose_other  purpose_renewable_energy  purpose_small_business  \\\n",
       "0              0                         0                       0   \n",
       "1              0                         0                       0   \n",
       "2              0                         0                       1   \n",
       "3              1                         0                       0   \n",
       "4              0                         0                       0   \n",
       "\n",
       "   purpose_vacation  purpose_wedding  \n",
       "0                 0                0  \n",
       "1                 0                0  \n",
       "2                 0                0  \n",
       "3                 0                0  \n",
       "4                 0                1  \n",
       "\n",
       "[5 rows x 51 columns]"
      ]
     },
     "execution_count": 33,
     "metadata": {},
     "output_type": "execute_result"
    }
   ],
   "source": [
    "x_df.head()"
   ]
  },
  {
   "cell_type": "markdown",
   "id": "b460e72b",
   "metadata": {},
   "source": [
    "# Training & Testing Data"
   ]
  },
  {
   "cell_type": "code",
   "execution_count": 34,
   "id": "2ea77317",
   "metadata": {},
   "outputs": [],
   "source": [
    "from sklearn.model_selection import train_test_split\n",
    "from sklearn.linear_model import LogisticRegression"
   ]
  },
  {
   "cell_type": "code",
   "execution_count": 59,
   "id": "c5d0cc9a",
   "metadata": {},
   "outputs": [],
   "source": [
    "x_train,x_test,y_train,y_test = train_test_split(x_df, y_df, test_size=0.30)"
   ]
  },
  {
   "cell_type": "code",
   "execution_count": 60,
   "id": "0b556065",
   "metadata": {},
   "outputs": [
    {
     "data": {
      "text/plain": [
       "(27376, 51)"
      ]
     },
     "execution_count": 60,
     "metadata": {},
     "output_type": "execute_result"
    }
   ],
   "source": [
    "x_train.shape"
   ]
  },
  {
   "cell_type": "code",
   "execution_count": 61,
   "id": "f5790a7e",
   "metadata": {},
   "outputs": [
    {
     "data": {
      "text/plain": [
       "(11733, 51)"
      ]
     },
     "execution_count": 61,
     "metadata": {},
     "output_type": "execute_result"
    }
   ],
   "source": [
    "x_test.shape"
   ]
  },
  {
   "cell_type": "code",
   "execution_count": 62,
   "id": "3d8b5a30",
   "metadata": {},
   "outputs": [
    {
     "data": {
      "text/plain": [
       "(27376,)"
      ]
     },
     "execution_count": 62,
     "metadata": {},
     "output_type": "execute_result"
    }
   ],
   "source": [
    "y_train.shape"
   ]
  },
  {
   "cell_type": "code",
   "execution_count": 63,
   "id": "bd6f4315",
   "metadata": {},
   "outputs": [
    {
     "data": {
      "text/plain": [
       "(11733,)"
      ]
     },
     "execution_count": 63,
     "metadata": {},
     "output_type": "execute_result"
    }
   ],
   "source": [
    "y_test.shape"
   ]
  },
  {
   "cell_type": "code",
   "execution_count": 64,
   "id": "e43f5e6b",
   "metadata": {},
   "outputs": [
    {
     "data": {
      "text/html": [
       "<div>\n",
       "<style scoped>\n",
       "    .dataframe tbody tr th:only-of-type {\n",
       "        vertical-align: middle;\n",
       "    }\n",
       "\n",
       "    .dataframe tbody tr th {\n",
       "        vertical-align: top;\n",
       "    }\n",
       "\n",
       "    .dataframe thead th {\n",
       "        text-align: right;\n",
       "    }\n",
       "</style>\n",
       "<table border=\"1\" class=\"dataframe\">\n",
       "  <thead>\n",
       "    <tr style=\"text-align: right;\">\n",
       "      <th></th>\n",
       "      <th>loan_amnt</th>\n",
       "      <th>term</th>\n",
       "      <th>int_rate</th>\n",
       "      <th>installment</th>\n",
       "      <th>annual_inc</th>\n",
       "      <th>dti</th>\n",
       "      <th>delinq_2yrs</th>\n",
       "      <th>inq_last_6mths</th>\n",
       "      <th>revol_bal</th>\n",
       "      <th>revol_util</th>\n",
       "      <th>...</th>\n",
       "      <th>purpose_home_improvement</th>\n",
       "      <th>purpose_house</th>\n",
       "      <th>purpose_major_purchase</th>\n",
       "      <th>purpose_medical</th>\n",
       "      <th>purpose_moving</th>\n",
       "      <th>purpose_other</th>\n",
       "      <th>purpose_renewable_energy</th>\n",
       "      <th>purpose_small_business</th>\n",
       "      <th>purpose_vacation</th>\n",
       "      <th>purpose_wedding</th>\n",
       "    </tr>\n",
       "  </thead>\n",
       "  <tbody>\n",
       "    <tr>\n",
       "      <th>28977</th>\n",
       "      <td>3200.0</td>\n",
       "      <td>36</td>\n",
       "      <td>13.85</td>\n",
       "      <td>109.14</td>\n",
       "      <td>96000.0</td>\n",
       "      <td>0.31</td>\n",
       "      <td>0.0</td>\n",
       "      <td>0.0</td>\n",
       "      <td>255.0</td>\n",
       "      <td>9.1</td>\n",
       "      <td>...</td>\n",
       "      <td>0</td>\n",
       "      <td>0</td>\n",
       "      <td>1</td>\n",
       "      <td>0</td>\n",
       "      <td>0</td>\n",
       "      <td>0</td>\n",
       "      <td>0</td>\n",
       "      <td>0</td>\n",
       "      <td>0</td>\n",
       "      <td>0</td>\n",
       "    </tr>\n",
       "    <tr>\n",
       "      <th>858</th>\n",
       "      <td>9600.0</td>\n",
       "      <td>36</td>\n",
       "      <td>14.65</td>\n",
       "      <td>331.15</td>\n",
       "      <td>40000.0</td>\n",
       "      <td>5.20</td>\n",
       "      <td>0.0</td>\n",
       "      <td>1.0</td>\n",
       "      <td>5271.0</td>\n",
       "      <td>75.3</td>\n",
       "      <td>...</td>\n",
       "      <td>0</td>\n",
       "      <td>0</td>\n",
       "      <td>0</td>\n",
       "      <td>0</td>\n",
       "      <td>0</td>\n",
       "      <td>0</td>\n",
       "      <td>0</td>\n",
       "      <td>0</td>\n",
       "      <td>0</td>\n",
       "      <td>0</td>\n",
       "    </tr>\n",
       "    <tr>\n",
       "      <th>18972</th>\n",
       "      <td>10500.0</td>\n",
       "      <td>36</td>\n",
       "      <td>7.29</td>\n",
       "      <td>325.61</td>\n",
       "      <td>35220.0</td>\n",
       "      <td>14.07</td>\n",
       "      <td>0.0</td>\n",
       "      <td>1.0</td>\n",
       "      <td>10950.0</td>\n",
       "      <td>51.2</td>\n",
       "      <td>...</td>\n",
       "      <td>0</td>\n",
       "      <td>0</td>\n",
       "      <td>1</td>\n",
       "      <td>0</td>\n",
       "      <td>0</td>\n",
       "      <td>0</td>\n",
       "      <td>0</td>\n",
       "      <td>0</td>\n",
       "      <td>0</td>\n",
       "      <td>0</td>\n",
       "    </tr>\n",
       "    <tr>\n",
       "      <th>676</th>\n",
       "      <td>3000.0</td>\n",
       "      <td>36</td>\n",
       "      <td>7.90</td>\n",
       "      <td>93.88</td>\n",
       "      <td>45000.0</td>\n",
       "      <td>19.39</td>\n",
       "      <td>0.0</td>\n",
       "      <td>0.0</td>\n",
       "      <td>16487.0</td>\n",
       "      <td>63.2</td>\n",
       "      <td>...</td>\n",
       "      <td>0</td>\n",
       "      <td>0</td>\n",
       "      <td>0</td>\n",
       "      <td>0</td>\n",
       "      <td>0</td>\n",
       "      <td>0</td>\n",
       "      <td>0</td>\n",
       "      <td>0</td>\n",
       "      <td>0</td>\n",
       "      <td>0</td>\n",
       "    </tr>\n",
       "    <tr>\n",
       "      <th>9274</th>\n",
       "      <td>16000.0</td>\n",
       "      <td>60</td>\n",
       "      <td>17.99</td>\n",
       "      <td>406.21</td>\n",
       "      <td>40000.0</td>\n",
       "      <td>13.53</td>\n",
       "      <td>0.0</td>\n",
       "      <td>2.0</td>\n",
       "      <td>13854.0</td>\n",
       "      <td>45.6</td>\n",
       "      <td>...</td>\n",
       "      <td>1</td>\n",
       "      <td>0</td>\n",
       "      <td>0</td>\n",
       "      <td>0</td>\n",
       "      <td>0</td>\n",
       "      <td>0</td>\n",
       "      <td>0</td>\n",
       "      <td>0</td>\n",
       "      <td>0</td>\n",
       "      <td>0</td>\n",
       "    </tr>\n",
       "  </tbody>\n",
       "</table>\n",
       "<p>5 rows × 51 columns</p>\n",
       "</div>"
      ],
      "text/plain": [
       "       loan_amnt  term  int_rate  installment  annual_inc    dti  delinq_2yrs  \\\n",
       "28977     3200.0    36     13.85       109.14     96000.0   0.31          0.0   \n",
       "858       9600.0    36     14.65       331.15     40000.0   5.20          0.0   \n",
       "18972    10500.0    36      7.29       325.61     35220.0  14.07          0.0   \n",
       "676       3000.0    36      7.90        93.88     45000.0  19.39          0.0   \n",
       "9274     16000.0    60     17.99       406.21     40000.0  13.53          0.0   \n",
       "\n",
       "       inq_last_6mths  revol_bal  revol_util  ...  purpose_home_improvement  \\\n",
       "28977             0.0      255.0         9.1  ...                         0   \n",
       "858               1.0     5271.0        75.3  ...                         0   \n",
       "18972             1.0    10950.0        51.2  ...                         0   \n",
       "676               0.0    16487.0        63.2  ...                         0   \n",
       "9274              2.0    13854.0        45.6  ...                         1   \n",
       "\n",
       "       purpose_house  purpose_major_purchase  purpose_medical  purpose_moving  \\\n",
       "28977              0                       1                0               0   \n",
       "858                0                       0                0               0   \n",
       "18972              0                       1                0               0   \n",
       "676                0                       0                0               0   \n",
       "9274               0                       0                0               0   \n",
       "\n",
       "       purpose_other  purpose_renewable_energy  purpose_small_business  \\\n",
       "28977              0                         0                       0   \n",
       "858                0                         0                       0   \n",
       "18972              0                         0                       0   \n",
       "676                0                         0                       0   \n",
       "9274               0                         0                       0   \n",
       "\n",
       "       purpose_vacation  purpose_wedding  \n",
       "28977                 0                0  \n",
       "858                   0                0  \n",
       "18972                 0                0  \n",
       "676                   0                0  \n",
       "9274                  0                0  \n",
       "\n",
       "[5 rows x 51 columns]"
      ]
     },
     "execution_count": 64,
     "metadata": {},
     "output_type": "execute_result"
    }
   ],
   "source": [
    "x_train.sample(5)"
   ]
  },
  {
   "cell_type": "code",
   "execution_count": 65,
   "id": "757a4a6d",
   "metadata": {},
   "outputs": [
    {
     "data": {
      "text/plain": [
       "6521      Fully Paid\n",
       "5255      Fully Paid\n",
       "6265      Fully Paid\n",
       "29284    Charged Off\n",
       "18088     Fully Paid\n",
       "Name: loan_status, dtype: object"
      ]
     },
     "execution_count": 65,
     "metadata": {},
     "output_type": "execute_result"
    }
   ],
   "source": [
    "y_train.sample(5)"
   ]
  },
  {
   "cell_type": "markdown",
   "id": "10980181",
   "metadata": {},
   "source": [
    "**Logistic Regression**"
   ]
  },
  {
   "cell_type": "code",
   "execution_count": 66,
   "id": "01309b33",
   "metadata": {},
   "outputs": [],
   "source": [
    "log_reg=LogisticRegression(max_iter=1000)"
   ]
  },
  {
   "cell_type": "code",
   "execution_count": 67,
   "id": "2eb26111",
   "metadata": {},
   "outputs": [
    {
     "data": {
      "text/plain": [
       "LogisticRegression(max_iter=1000)"
      ]
     },
     "execution_count": 67,
     "metadata": {},
     "output_type": "execute_result"
    }
   ],
   "source": [
    "log_reg.fit(x_train,y_train)"
   ]
  },
  {
   "cell_type": "code",
   "execution_count": 68,
   "id": "9a72b605",
   "metadata": {},
   "outputs": [],
   "source": [
    "y_pred=log_reg.predict(x_test)"
   ]
  },
  {
   "cell_type": "markdown",
   "id": "22ac5399",
   "metadata": {},
   "source": [
    "# Training Accuracy Score"
   ]
  },
  {
   "cell_type": "code",
   "execution_count": 69,
   "id": "e3c7c8a2",
   "metadata": {},
   "outputs": [
    {
     "name": "stdout",
     "output_type": "stream",
     "text": [
      "Accuracy is 0.8581969608416131\n"
     ]
    }
   ],
   "source": [
    "print('Accuracy is',log_reg.score(x_train,y_train))"
   ]
  },
  {
   "cell_type": "markdown",
   "id": "bbf4913d",
   "metadata": {},
   "source": [
    "# Testing  Accuracy Score"
   ]
  },
  {
   "cell_type": "code",
   "execution_count": 70,
   "id": "38b5501f",
   "metadata": {},
   "outputs": [
    {
     "name": "stdout",
     "output_type": "stream",
     "text": [
      "Accuracy is 0.8563879655672036\n"
     ]
    }
   ],
   "source": [
    "print('Accuracy is',log_reg.score(x_test,y_test))"
   ]
  },
  {
   "cell_type": "code",
   "execution_count": null,
   "id": "4510868f",
   "metadata": {},
   "outputs": [],
   "source": []
  }
 ],
 "metadata": {
  "kernelspec": {
   "display_name": "Python 3 (ipykernel)",
   "language": "python",
   "name": "python3"
  },
  "language_info": {
   "codemirror_mode": {
    "name": "ipython",
    "version": 3
   },
   "file_extension": ".py",
   "mimetype": "text/x-python",
   "name": "python",
   "nbconvert_exporter": "python",
   "pygments_lexer": "ipython3",
   "version": "3.9.7"
  }
 },
 "nbformat": 4,
 "nbformat_minor": 5
}
