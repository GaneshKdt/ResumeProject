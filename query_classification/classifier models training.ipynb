{
 "cells": [
  {
   "cell_type": "code",
   "execution_count": 1,
   "id": "21eeb57c",
   "metadata": {},
   "outputs": [],
   "source": [
    "import pandas as pd\n",
    "import numpy as np\n",
    "import re\n",
    "from mysql_helper import _mysql\n",
    "import warnings\n",
    "warnings.filterwarnings('ignore')\n",
    "import pickle"
   ]
  },
  {
   "cell_type": "code",
   "execution_count": 2,
   "id": "d87b134b",
   "metadata": {},
   "outputs": [],
   "source": [
    "local=_mysql('database-1.cmnqxmfv4x6c.ap-south-1.rds.amazonaws.com','3306','admin','ngasceadmin123','acads')"
   ]
  },
  {
   "cell_type": "code",
   "execution_count": null,
   "id": "c632191d",
   "metadata": {},
   "outputs": [],
   "source": [
    "# For all columns\n",
    "# local.fetch_column('session_query_answer')\n",
    "# local.fetch_query('''SELECT * FROM acads.session_query_answer where createdDate>= \"2018-01-01 00:00:00\" and createdDate<\"2023-01-01 00:00:00\"; ''')"
   ]
  },
  {
   "cell_type": "code",
   "execution_count": null,
   "id": "58ee97ab",
   "metadata": {},
   "outputs": [],
   "source": [
    "# for only yearly data"
   ]
  },
  {
   "cell_type": "code",
   "execution_count": 3,
   "id": "8c08d0b0",
   "metadata": {},
   "outputs": [],
   "source": [
    "local.show_column = ['query','queryType','answer']\n",
    "local.fetch_query('''SELECT query,queryType,answer FROM acads.session_query_answer where createdDate>= \"2018-01-01 00:00:00\" and createdDate<\"2023-01-01 00:00:00\";''')"
   ]
  },
  {
   "cell_type": "code",
   "execution_count": 4,
   "id": "3fe769ff",
   "metadata": {},
   "outputs": [],
   "source": [
    "df = local.show_table"
   ]
  },
  {
   "cell_type": "code",
   "execution_count": 5,
   "id": "fc2ee6dd",
   "metadata": {},
   "outputs": [],
   "source": [
    "df=df[df['query'].isnull()==False].reset_index(drop=True)\n",
    "# df=df[df['queryType'].isnull()==False].reset_index(drop=True)\n",
    "# df=df[df['answer'].isnull()==False].reset_index(drop=True)"
   ]
  },
  {
   "cell_type": "code",
   "execution_count": 6,
   "id": "41891349",
   "metadata": {},
   "outputs": [],
   "source": [
    "# removing querys which hav 2 or less words\n",
    "to_remove = []\n",
    "for index,row in df.iterrows():\n",
    "    if len(row['query'].split(' ')) <=2:\n",
    "        to_remove.append(index)\n",
    "df.drop(to_remove,inplace=True)"
   ]
  },
  {
   "cell_type": "code",
   "execution_count": 7,
   "id": "ac84603d",
   "metadata": {},
   "outputs": [],
   "source": [
    "df['query'] = df['query'].dropna().apply(str.lower)\n",
    "df['queryType'] = df['queryType'].dropna().apply(str.lower)\n",
    "df['answer'] = df['answer'].dropna().apply(str.lower)\n",
    "df['queryType'] = df['queryType'].replace(['course query', 'academic',''], 'non-technical')"
   ]
  },
  {
   "cell_type": "code",
   "execution_count": 8,
   "id": "0819bacf",
   "metadata": {},
   "outputs": [
    {
     "data": {
      "text/plain": [
       "queryType\n",
       "non-technical    59491\n",
       "technical         3792\n",
       "Name: count, dtype: int64"
      ]
     },
     "execution_count": 8,
     "metadata": {},
     "output_type": "execute_result"
    }
   ],
   "source": [
    "df['queryType'].value_counts()"
   ]
  },
  {
   "cell_type": "code",
   "execution_count": 9,
   "id": "af76e987",
   "metadata": {},
   "outputs": [],
   "source": [
    "# changing query type of the query\n",
    "\n",
    "pattern = re.compile(r'''\\bKindly restrict\\b|\\bngasce@nimms.edu\\b|\\bNGASCE@nmims.edu\\b|\\bstudent support team\\b|\\bNGASCE Team\\b|\\bco- ordinator\\b|\\bcoordinator\\b|\\bportal\\b|\\bexamination department\\b|\\bpost academic related query\\b|\\bhelp desk\\b|\\b1800-1025-136\\b<p><b>Kindly restrict  your queries to the session under which you are posting the query. </b></p><p><b>Queries other  than those related to the particular session and/or subject will not be  answered in this section.</b></p><p><b>For all  academic administrative and other queries related to support please approach </b><a><b>NGASCE@nmims.edu</b></a></p>\\b|\\b<p>Kindly restrict your  queries to the session under which you are posting the query. Queries other  than those related to the particular session and/or subject will not be  answered in this section. For all academic administrative and other queries  related to support please approach NGASCE@nmims.edu</p><p>Regards,</p><p>NGASCE</p>\\b|\\bKindly restrict your queries to the session under which you are posting the query. Queries other than those related to the particular session and/or subject will not be answered in this section. For all academic administrative and other queries related to support please approach NGASCE@nmims.edu\n",
    "Regards,\n",
    "NGASCE\\b|\\bKindly restrict your queries to the session under which you are posting the query. Queries other than those related to the particular session and/or subject will not be answered in this section. For all academic administrative and other queries related to support please approach NGASCE@nmims.edu\\b|\\b<b>please approach </b><a><b>NGASCE@nmims.edu</b></a>\\b|\\bplease  approach NGASCE@nmims.edu\\b|\\b<p><b>&ldquo;Kindly restrict your queries to the session under  which you are &nbsp;&nbsp;&nbsp;posting the query.</b></p><p><b>&nbsp;</b></p><p><b>Queries other than those related to the particular  session and/or subject will not be answered in this section.</b></p><p><b> </b></p><p><b>For all academic administrative and other queries  related to support please do follow the below given steps;</b></p><p><b> </b></p><p><b>Click on the tab, Student Support &gt; </b><b>Connect  With Us &gt; Raise a Ticket {My Tickets} &gt; Raise a Ticket &gt; fill in your  details &gt; Submit&rdquo;</b></p>\\b|\\bFor all academic administrative and other queries related to support please approach NGASCE@nmims.edu\\b|\\b<p><b>&ldquo;Kindly  restrict your queries to the session under which you are &nbsp;&nbsp;&nbsp;posting the query. </b></p><p><b>Queries other  than those related to the particular session and/or subject will not be  answered in this section.</b></p><p><b>For all  academic administrative and other queries related to support please approach </b><a><b>NGASCE@nmims.edu</b></a><b> </b><b>&rdquo;</b></p>\\b|\\bplease write to ngasce@nmims.edu\\b|\\b<p>Kindly restrict your queries to the session under which you are  posting the query. Queries other than those related to the particular session  and/or subject will not be answered in this section. For all academic  administrative and other queries related to support please approach NGASCE@nmims.edu</p><p>Regards,</p><p>NGASCE</p>\\b|\\bKindly restrict your queries to the session under which you are posting the query. Queries other than those related to the particular session and/or subject will not be answered in this section. For all academic administrative and other queries related to support please approach NGASCE@nmims.edu\n",
    "\n",
    "Regards,\n",
    "NGASCE\\b|\\bFor  all academic administrative and other queries related to support please  approach NGASCE@nmims.edu\\b|\\bKindly restrict your queries to the session under which you are posting the query. Queries other than those related to the particular session and/or subject will not be answered in this section. For all academic administrative and other queries related to support please approach ngasce@nmims.edu\n",
    "\n",
    "Regards,\\b|\\b<p><b>&ldquo;Kindly  restrict your queries to the session under which you are &nbsp;&nbsp;&nbsp;posting the query.</b></p><p><b>&nbsp;</b></p><p><b>Queries other  than those related to the particular session and/or subject will not be  answered in this section.</b></p><p><b> </b></p><p><b>For all  academic administrative and other queries related to support please do follow  the below given steps;</b></p><p><b> </b></p><p><b>Click on the tab, Student Support &gt; </b><b>Connect  With Us &gt; Raise a Ticket {My Tickets} &gt; Raise a Ticket &gt; fill in your  details &gt; Submit</b><b>&rdquo;</b></p>\\b|\\b<p><b>For all  academic administrative and other queries related to support please approach </b><a><b>NGASCE@nmims.edu</b></a></p>\\b|\\b<p>Kindly restrict your queries to  the session under which you are posting the query. Queries other than those  related to the particular session and/or subject will not be answered in this  section. For all academic administrative and other queries related to support  please approach <a><b>NGASCE@nmims.edu</b></a></p><p>Regards,</p><p>NGASCE</p>\\b|\\b<a href=\"https://adhocfilesngasce.s3.ap-south-1.amazonaws.com/academics/1655290709OMeYb.pdf\">https://adhocfilesngasce.s3.ap-south-1.amazonaws.com/academics/1655290709OMeYb.pdf</a>\\b|\\b<!--StartFragment--><p style=\"box-sizing: border-box; margin: 0px 0px 10px; padding: 0px; color: rgb(51, 51, 51); font-family: &amp;quot;Trebuchet MS&amp;quot;, Tahoma, Verdana, Arial, sans-serif; font-size: 15.4px; font-style: normal; font-variant-ligatures: normal; font-variant-caps: normal; font-weight: 400; letter-spacing: normal; orphans: 2; text-align: start; text-indent: 0px; text-transform: none; white-space: normal; widows: 2; word-spacing: 0px; -webkit-text-stroke-width: 0px; text-decoration-thickness: initial; text-decoration-style: initial; text-decoration-color: initial;\">The Individual Task is uploaded in the&nbsp;<b>Learning Resources Section</b>. All the details are mentioned in the document itself.</p><p style=\"box-sizing: border-box; margin: 0px 0px 10px; padding: 0px; color: rgb(51, 51, 51); font-family: &amp;quot;Trebuchet MS&amp;quot;, Tahoma, Verdana, Arial, sans-serif; font-size: 15.4px; font-style: normal; font-variant-ligatures: normal; font-variant-caps: normal; font-weight: 400; letter-spacing: normal; orphans: 2; text-align: start; text-indent: 0px; text-transform: none; white-space: normal; widows: 2; word-spacing: 0px; -webkit-text-stroke-width: 0px; text-decoration-thickness: initial; text-decoration-style: initial; text-decoration-color: initial;\">You have to&nbsp;<b>Upload your work as a PDF file in the Upload Assignment Section</b>. If you don&rsquo;t see this on your portal</p><!--EndFragment-->\\b|\\b<p>Kindly restrict your  queries to the session under which you are posting the query. Queries other  than those related to the particular session and/or subject will not be  answered in this section. For all academic administrative and other queries  related to support please approach NGASCE@nmims.edu</p>\\b|\\b. For all academic administrative and other queries related to support please approach NGASCE@nmims.edu\n",
    "Regards,\n",
    "NGASCE\\b|\\bKindly mail your admission, exam-related queries on ngasce@nimms.edu\\b|\\bPlease approach NGASCE@nmims.edu\\b|\\b<!--StartFragment-->Plz refer&nbsp;chapter 5 section 5.3.1 and 5.3.2<br style=\"box-sizing: border-box; margin: 0px; padding: 0px; color: rgb(51, 51, 51); font-family: &amp;quot;Trebuchet MS&amp;quot;, Tahoma, Verdana, Arial, sans-serif; font-size: 15.4px; font-style: normal; font-variant-ligatures: normal; font-variant-caps: normal; font-weight: 400; letter-spacing: normal; orphans: 2; text-align: start; text-indent: 0px; text-transform: none; white-space: normal; widows: 2; word-spacing: 0px; -webkit-text-stroke-width: 0px; text-decoration-thickness: initial; text-decoration-style: initial; text-decoration-color: initial;\"><br style=\"box-sizing: border-box; margin: 0px; padding: 0px; color: rgb(51, 51, 51); font-family: &amp;quot;Trebuchet MS&amp;quot;, Tahoma, Verdana, Arial, sans-serif; font-size: 15.4px; font-style: normal; font-variant-ligatures: normal; font-variant-caps: normal; font-weight: 400; letter-spacing: normal; orphans: 2; text-align: start; text-indent: 0px; text-transform: none; white-space: normal; widows: 2; word-spacing: 0px; -webkit-text-stroke-width: 0px; text-decoration-thickness: initial; text-decoration-style: initial; text-decoration-color: initial;\">3 LAWS:&nbsp;<br style=\"box-sizing: border-box; margin: 0px; padding: 0px; color: rgb(51, 51, 51); font-family: &amp;quot;Trebuchet MS&amp;quot;, Tahoma, Verdana, Arial, sans-serif; font-size: 15.4px; font-style: normal; font-variant-ligatures: normal; font-variant-caps: normal; font-weight: 400; letter-spacing: normal; orphans: 2; text-align: start; text-indent: 0px; text-transform: none; white-space: normal; widows: 2; word-spacing: 0px; -webkit-text-stroke-width: 0px; text-decoration-thickness: initial; text-decoration-style: initial; text-decoration-color: initial;\">Moore&apos;s law,&nbsp; law of mass digital storage , Metcalfe&apos;s law.<br style=\"box-sizing: border-box; margin: 0px; padding: 0px; color: rgb(51, 51, 51); font-family: &amp;quot;Trebuchet MS&amp;quot;, Tahoma, Verdana, Arial, sans-serif; font-size: 15.4px; font-style: normal; font-variant-ligatures: normal; font-variant-caps: normal; font-weight: 400; letter-spacing: normal; orphans: 2; text-align: start; text-indent: 0px; text-transform: none; white-space: normal; widows: 2; word-spacing: 0px; -webkit-text-stroke-width: 0px; text-decoration-thickness: initial; text-decoration-style: initial; text-decoration-color: initial;\"><br style=\"box-sizing: border-box; margin: 0px; padding: 0px; color: rgb(51, 51, 51); font-family: &amp;quot;Trebuchet MS&amp;quot;, Tahoma, Verdana, Arial, sans-serif; font-size: 15.4px; font-style: normal; font-variant-ligatures: normal; font-variant-caps: normal; font-weight: 400; letter-spacing: normal; orphans: 2; text-align: start; text-indent: 0px; text-transform: none; white-space: normal; widows: 2; word-spacing: 0px; -webkit-text-stroke-width: 0px; text-decoration-thickness: initial; text-decoration-style: initial; text-decoration-color: initial;\">Plz elaborate on these.<br style=\"box-sizing: border-box; margin: 0px; padding: 0px; color: rgb(51, 51, 51); font-family: &amp;quot;Trebuchet MS&amp;quot;, Tahoma, Verdana, Arial, sans-serif; font-size: 15.4px; font-style: normal; font-variant-ligatures: normal; font-variant-caps: normal; font-weight: 400; letter-spacing: normal; orphans: 2; text-align: start; text-indent: 0px; text-transform: none; white-space: normal; widows: 2; word-spacing: 0px; -webkit-text-stroke-width: 0px; text-decoration-thickness: initial; text-decoration-style: initial; text-decoration-color: initial;\">Regards<br style=\"box-sizing: border-box; margin: 0px; padding: 0px; color: rgb(51, 51, 51); font-family: &amp;quot;Trebuchet MS&amp;quot;, Tahoma, Verdana, Arial, sans-serif; font-size: 15.4px; font-style: normal; font-variant-ligatures: normal; font-variant-caps: normal; font-weight: 400; letter-spacing: normal; orphans: 2; text-align: start; text-indent: 0px; text-transform: none; white-space: normal; widows: 2; word-spacing: 0px; -webkit-text-stroke-width: 0px; text-decoration-thickness: initial; text-decoration-style: initial; text-decoration-color: initial;\">Jhalak M<!--EndFragment-->\\b|\\b<p>The Individual Task is already uploaded on the  student&rsquo;s portal in the Upload Assignments Section as a PDF File.</p><p>If you don&rsquo;t see this on your portal, please connect  to the Admin Desk at NMIMS.</p>\\b|\\bPlease email your query to NGASCE@nmims.edu\\b|\\b<!--StartFragment-->Kindly raise a ticket so that you can get the title approval for the subject expert. Also, please go through the project session recordings.<!--EndFragment-->\\b|\\bDear Student,\n",
    "Please use this forum for session related queries for other concerns please get in touch with ngasce@nmims.edu\\b|\\bKindly forward your query to ngasce@nmims.edu\\b|\\bPlease write to NGASCE@nmims.edu.\\b|\\b<p>Kindly restrict your queries to the session under which you are &nbsp;&nbsp;&nbsp;posting the query.</p><p>&nbsp;</p><p>Queries other than those related to the particular session and/or subject  will not be answered in this section.</p><p> </p><p>For all academic administrative and other queries related to support please  do follow the below given steps;</p><p> </p><p>Click on the tab, Student Support &gt; Connect With Us &gt; Raise a Ticket {My Tickets} &gt;  Raise a Ticket &gt; fill in your details &gt; Submit.</p><p> </p><p> </p><p>Regards,</p><p>NGASCE  Academics</p>\\b|\\bPLease contact course coordinator\\b|\\b<!--StartFragment--><p style=\"box-sizing: border-box; margin: 0px 0px 10px; padding: 0px; color: rgb(51, 51, 51); font-family: &amp;quot;Trebuchet MS&amp;quot;, Tahoma, Verdana, Arial, sans-serif; font-size: 15.4px; font-style: normal; font-variant-ligatures: normal; font-variant-caps: normal; font-weight: 400; letter-spacing: normal; orphans: 2; text-align: start; text-indent: 0px; text-transform: none; white-space: normal; widows: 2; word-spacing: 0px; -webkit-text-stroke-width: 0px; text-decoration-thickness: initial; text-decoration-style: initial; text-decoration-color: initial;\"><b>&ldquo;Kindly restrict your queries to the session under which you are &nbsp;&nbsp;&nbsp;posting the query.</b></p><p style=\"box-sizing: border-box; margin: 0px 0px 10px; padding: 0px; color: rgb(51, 51, 51); font-family: &amp;quot;Trebuchet MS&amp;quot;, Tahoma, Verdana, Arial, sans-serif; font-size: 15.4px; font-style: normal; font-variant-ligatures: normal; font-variant-caps: normal; font-weight: 400; letter-spacing: normal; orphans: 2; text-align: start; text-indent: 0px; text-transform: none; white-space: normal; widows: 2; word-spacing: 0px; -webkit-text-stroke-width: 0px; text-decoration-thickness: initial; text-decoration-style: initial; text-decoration-color: initial;\"><b>&nbsp;</b></p><p style=\"box-sizing: border-box; margin: 0px 0px 10px; padding: 0px; color: rgb(51, 51, 51); font-family: &amp;quot;Trebuchet MS&amp;quot;, Tahoma, Verdana, Arial, sans-serif; font-size: 15.4px; font-style: normal; font-variant-ligatures: normal; font-variant-caps: normal; font-weight: 400; letter-spacing: normal; orphans: 2; text-align: start; text-indent: 0px; text-transform: none; white-space: normal; widows: 2; word-spacing: 0px; -webkit-text-stroke-width: 0px; text-decoration-thickness: initial; text-decoration-style: initial; text-decoration-color: initial;\"><b>Queries other than those related to the particular session and/or subject will not be answered in this section.</b></p><p style=\"box-sizing: border-box; margin: 0px 0px 10px; padding: 0px; color: rgb(51, 51, 51); font-family: &amp;quot;Trebuchet MS&amp;quot;, Tahoma, Verdana, Arial, sans-serif; font-size: 15.4px; font-style: normal; font-variant-ligatures: normal; font-variant-caps: normal; font-weight: 400; letter-spacing: normal; orphans: 2; text-align: start; text-indent: 0px; text-transform: none; white-space: normal; widows: 2; word-spacing: 0px; -webkit-text-stroke-width: 0px; text-decoration-thickness: initial; text-decoration-style: initial; text-decoration-color: initial;\"><b>For all academic administrative and other queries related to support please do follow the below given steps;</b></p><p style=\"box-sizing: border-box; margin: 0px 0px 10px; padding: 0px; color: rgb(51, 51, 51); font-family: &amp;quot;Trebuchet MS&amp;quot;, Tahoma, Verdana, Arial, sans-serif; font-size: 15.4px; font-style: normal; font-variant-ligatures: normal; font-variant-caps: normal; font-weight: 400; letter-spacing: normal; orphans: 2; text-align: start; text-indent: 0px; text-transform: none; white-space: normal; widows: 2; word-spacing: 0px; -webkit-text-stroke-width: 0px; text-decoration-thickness: initial; text-decoration-style: initial; text-decoration-color: initial;\"><b>Click on the tab, Student Support &gt;&nbsp;</b><b>Connect With Us &gt; Raise a Ticket {My Tickets} &gt; Raise a Ticket &gt; fill in your details &gt; Submit&rdquo;</b></p><!--EndFragment-->\\b|\\b<p><b>&ldquo;Kindly  restrict your queries to the session under which you are &nbsp;&nbsp;&nbsp;posting the query.</b></p><p><b>&nbsp;</b></p><p><b>Queries other  than those related to the particular session and/or subject will not be  answered in this section.</b></p><p><b> </b></p><p><b>For all  academic administrative and other queries related to support please do follow  the below given steps;</b></p><p><b> </b></p><p><b>Click on the tab, Student Support &gt; </b><b>Connect  With Us &gt; Raise a Ticket {My Tickets} &gt; Raise a Ticket &gt; fill in your  details &gt; Submit</b><b>&nbsp; </b></p>\\b|\\bThis portal is for subject related query\\b|\\b<p><b>&ldquo;Kindly restrict your queries to the session under  which you are &nbsp;&nbsp;&nbsp;posting the query.</b></p><p><b>&nbsp;</b></p><p><b>Queries other than those related to the particular  session and/or subject will not be answered in this section.</b></p><p><b> </b></p><p><b>For all academic administrative and other queries  related to support please do follow the below given steps;</b></p><p><b> </b></p><b>Click on the tab, Student Support &gt; </b><b>Connect With Us &gt; Raise a Ticket {My Tickets} &gt; Raise a Ticket  &gt; fill in your details &gt; Submit&rdquo;</b>\\b|\\b<p><b>please approach  </b><a><b>NGASCE@nmims.edu</b></a></p>\\b|\\bLog in with Student Id->>  My Courses->>   Click on the respective Subject ->>  Click on Resources.\\b|\\b<p>Kindly restrict your queries to the session under which you are posting  the query. Queries other than those related to the particular session and/or  subject will not be answered in this section. For all academic administrative  and other queries related to support please approach NGASCE@nmims.edu</p><p>Regards,</p><p>NGASCE</p>\\b|\\bplease contact your course coordinator\\b|\\b<p>Kindly restrict your queries to the session under which you are  posting the query. Queries other than those related to the particular session  and/or subject will not be answered in this section. For all academic  administrative and other queries related to support please approach NGASCE@nmims.edu</p><p>Regards,</p><p>NGASCE</p><p> </p>\\b|\\bplease connect student support team\\b|\\bPlease connect with NGASCE Team\\b|\\b&ldquo;Kindly restrict your queries to the session under which you are<br>posting the query.<br>Queries other than those related to the particular session and/or<br>subject will not be answered in this section.<br>For all academic administrative and other queries related to<br>support please do follow the below given steps;<br>Click on the tab, Student Support &gt; Connect With Us &gt; Raise<br>a Ticket {My Tickets} &gt; Raise a Ticket &gt; fill in your details<br>&gt; Submit&rdquo;\\b|\\bKindly restrict your queries to the session under which you are posting the query. \n",
    "Queries other than those related to the particular session and/or subject will not be answered in this section.\n",
    "For all academic administrative and other queries related to support please approach NGASCE@nmims.edu\\b|\\bReply :\n",
    "\n",
    "Kindly restrict your queries to the session under which you are posting the query. Queries other than those related to the particular session and/or subject will not be answered in this section. For all academic administrative and other queries related to support please approach NGASCE@nmims.edu\\b|\\b<p><b>&ldquo;Kindly restrict your queries to the session under  which you are &nbsp;&nbsp;&nbsp;posting the query.</b></p><p><b>&nbsp;</b></p><p><b>Queries other than those related to the particular  session and/or subject will not be answered in this section.</b></p><p><b> </b></p><p><b>For all academic administrative and other queries  related to support please do follow the below given steps;</b></p><p><b> </b></p><p><b>Click on the tab, Student Support &gt; </b><b>Connect  With Us &gt; Raise a Ticket {My Tickets} &gt; Raise a Ticket &gt; fill in your  details &gt; Submit&rdquo;</b></p><p><b> </b></p>\\b|\\b<p>Kindly restrict your queries to  the session under which you are posting the query. Queries other than those  related to the particular session and/or subject will not be answered in this  section. For all academic administrative and other queries related to support  please approach <a><b>NGASCE@nmims.edu</b></a></p><p>Regards,</p><p>NGASCE</p><p> </p>\\b|\\bIT will be uploaded soon.\\b|\\bPlease connect with your academic coordinator\\b|\\bThis portal is only for subject related query\\b|\\b<p> </p><p><b>Kindly restrict  your queries to the session under which you are posting the query. </b></p><p><b>Queries other  than those related to the particular session and/or subject will not be  answered in this section.</b></p><p><b>For all  academic administrative and other queries related to support please approach </b><a><b>NGASCE@nmims.edu</b></a></p>\\b|\\b<p><b>Kindly restrict your queries to the session under which you are posting the query.</b></p><p><b>Queries other than those related to the particular session and/or subject will not be answered in this section.</b></p><p><b>For all academic administrative and other queries related to support please approach&nbsp;NGASCE@nmims.edu</b></p>\\b|\\bKindly restrict your queries to the session under which you are    posting the query.\n",
    " \n",
    "Queries other than those related to the particular session and/or subject will not be answered in this section.\n",
    "\n",
    "For all academic administrative and other queries related to support please do follow the below given steps;\n",
    "\n",
    "Click on the tab, Student Support > Connect With Us > Raise a Ticket {My Tickets} > Raise a Ticket > fill in your details > Submit\\b|\\bKindly restrict your queries to the session under which you are posting the query. Queries other than those related to the particular session and/or subject will not be answered in this section. For all academic administrative and other queries related to support please approach NGASCE@nmims.edu\n",
    "\n",
    "Regards\\b|\\bKindly write to ngasce@nmims.edu\\b|\\bPlease contact the course coordinator.\\b|\\bPlease get in touch with NGASCE@nmims.edu\\b|\\bDear Student,\n",
    "Kindly connect with your academic coordinator for such queries. \n",
    "Regards\\b|\\bDear Student,\n",
    "Kindly restrict your queries to the session under which you are posting the query. Queries other than those related to the particular session and/or subject will not be answered in this section. For all academic administrative and other queries related to support please approach NGASCE@nmims.edu\n",
    "\n",
    "Regards,\\b|\\bkindly connect to support team\\b|\\bKindly post this query to exam team\\b|\\bKindly restrict your queries to the session under which you are posting the query. Queries other than those related to the particular session and/or subject will not be answered in this section. For all academic administrative and other queries related to support please approach NGASCE@nmims.edu\n",
    "\n",
    "Regards,\n",
    "\n",
    "NGASCE\\b|\\bPlease post your administrative related queries as per the details below.\n",
    "\n",
    "Write to us at NGASCE@nmims.edu\n",
    "You can also call us between 9 AM and 7 PM, Monday to Saturday, on 1800-1025-136.\\b|\\bpls get in touch with NGASCE.\\b|\\bThis portal is to be used only for asking subject related queries\\b|\\b&nbsp;please approach NGASCE@nmims.edu\\b|\\b<p>Kindly restrict your queries to  the session under which you are posting the query. Queries other than those  related to the particular session and/or subject will not be answered in this  section. For all academic administrative and other queries related to support  please approach <a><b>NGASCE@nmims.edu</b></a></p><p>Regards,</p>NGASCE\\b''')\n",
    "\n",
    "for index,row in df.iterrows():\n",
    "    if len(pattern.findall(str(row['answer'])))!=0:\n",
    "        df.loc[index,\"queryType\"]='technical'"
   ]
  },
  {
   "cell_type": "code",
   "execution_count": 11,
   "id": "9049c116",
   "metadata": {},
   "outputs": [
    {
     "data": {
      "text/plain": [
       "queryType\n",
       "non-technical    57534\n",
       "technical         5772\n",
       "Name: count, dtype: int64"
      ]
     },
     "execution_count": 11,
     "metadata": {},
     "output_type": "execute_result"
    }
   ],
   "source": [
    "df['queryType'].value_counts()"
   ]
  },
  {
   "cell_type": "code",
   "execution_count": null,
   "id": "2ccc1802",
   "metadata": {},
   "outputs": [],
   "source": [
    "#words_for_tech_query = ['Kindly restrict','ngasce@nimms.edu','NGASCE@nmims.edu','student support team','NGASCE Team','co- ordinator','coordinator','portal','examination department','post academic related query','help desk','1800-1025-136','technical','escalated','admin']\n",
    "\n",
    "# a=''\n",
    "# for i in words_for_tech_query:\n",
    "#     print('\\\\b'+i+'\\\\b|',end='')\n",
    "\n",
    "\n",
    "# to_clean = pd.read_csv(r'C:\\Users\\Pramod.gunaware.EXT\\Downloads\\clean.csv')\n",
    "# for i in to_clean['answer']:\n",
    "# #     print(\"'''\"+i+\"''',\")\n",
    "#     print('\\\\b'+i+'\\\\b|',end='')"
   ]
  },
  {
   "cell_type": "code",
   "execution_count": 12,
   "id": "6b944b36",
   "metadata": {},
   "outputs": [],
   "source": [
    "# no need of an answeer from here\n",
    "df=df[['query','queryType']]"
   ]
  },
  {
   "cell_type": "code",
   "execution_count": 13,
   "id": "1d7b3151",
   "metadata": {},
   "outputs": [],
   "source": [
    "query_df = df"
   ]
  },
  {
   "cell_type": "code",
   "execution_count": 14,
   "id": "456236a0",
   "metadata": {},
   "outputs": [],
   "source": [
    "query_df['query']=query_df['query'].str.lower()\n",
    "query_df['queryType']=query_df['queryType'].str.lower()"
   ]
  },
  {
   "cell_type": "code",
   "execution_count": 15,
   "id": "dbf1bcd7",
   "metadata": {},
   "outputs": [],
   "source": [
    "dict_={\"abt\" : \"about\",  \n",
    "\"acc\" : \"acount\" ,\n",
    "\"aka\" : \"also known as\",\n",
    "\"asap\" : \"as soon as possible\",\n",
    "\"b4\" : \"before\",\n",
    "\"btw\" : \"by the way\",\n",
    "\"ctn\" : \"cant talk now\",\n",
    "\"cu\" : \"see you\",\n",
    "\"cua\" : \"see you around\",\n",
    "\"cul\" : \"see you later\",\n",
    "\"cya\" : \"see ya\",\n",
    "\"da\" : \"the\",\n",
    "\"dnt\" : \"Dont\",\n",
    "\"ema\" : \"Email address\",\n",
    "\"eta\"  : \"Estimated time of arrival\",\n",
    "\"ez\" : \"Easy\",\n",
    "\"faq\" : \"Frequently Asked Questions\",\n",
    "\"fb\" : \"Facebook\",\n",
    "\"fyi\" : \"For your information\",\n",
    "\"gud\" : \"Good\",\n",
    "\"hv\" : \"Have\",\n",
    "\"hw\" : \"Homework\",\n",
    "\"idk\" : \"I dont know\",\n",
    "\"im\" : \"i am\",\n",
    "\"msg\" : \"Message\",\n",
    "\"n/a\" : \"Not available or not applicable\",\n",
    "\"nvr\" : \"Never\",\n",
    "\"omg\" : \"Oh my God\",\n",
    "\"omw\" : \"On my way\",\n",
    "\"pls\" : \"Please\",\n",
    "\"plz\" : \"Please\",\n",
    "\"pov\" : \"Point of view\",\n",
    "\"ppl\" : \"People\",\n",
    "\"prolly\" : \"Probably\",\n",
    "\"pwned\" : \"Owned, as in conquered or defeated\",\n",
    "\"sec\" : \"Second\",\n",
    "\"sms\" : \"Short Message Service\",\n",
    "\"sry\" : \"Sorry\",\n",
    "\"tbh\" : \"To be honest\",\n",
    "\"thanq\" : \"Thank you\",\n",
    "\"thx\" : \"Thanks\",\n",
    "\"tweet\" : \"Twitter post\",\n",
    "\"txt\" : \"Text\",\n",
    "\"ty\" : \"Thank you\",\n",
    "\"u\" : \"You\",\n",
    "\"ur\" : \"Your\",\n",
    "\"w8\" : \"Wait\",\n",
    "\"wrk\" : \"Work\",\n",
    "\"yr\" : \"year\",\n",
    "\"24/7\" : \"seven days a week\"}\n",
    "\n",
    "\n",
    "\n",
    "def slang_convert(text):\n",
    "    new_text=[]\n",
    "    for word in text.split():\n",
    "        if word.lower() in dict_:\n",
    "            new_text.append(dict_[word.lower()].lower())\n",
    "        else:\n",
    "            new_text.append(word)\n",
    "    return \" \".join(new_text)\n",
    "\n",
    "query_df[\"query\"]=query_df[\"query\"].apply(slang_convert)"
   ]
  },
  {
   "cell_type": "code",
   "execution_count": 16,
   "id": "b772031c",
   "metadata": {},
   "outputs": [],
   "source": [
    "#remove punctuation\n",
    "import string\n",
    "def remove_punc(txt):\n",
    "    for i in string.punctuation:\n",
    "        txt=txt.replace(i,'')\n",
    "    return txt\n",
    "\n",
    "query_df['query_clean']=query_df['query'].apply(remove_punc)"
   ]
  },
  {
   "cell_type": "code",
   "execution_count": 17,
   "id": "1465a1c3",
   "metadata": {},
   "outputs": [],
   "source": [
    "def preprocessing(query):\n",
    "    query = str(query)\n",
    "    # removes query with 2 or less words\n",
    "    if len(query.split(' ')) <=3:\n",
    "        del(query)\n",
    "        pass\n",
    "    else:\n",
    "        query=query.lower()\n",
    "        query = slang_convert(query)\n",
    "        query = remove_punc(query)\n",
    "        query = remove_emoji(query)"
   ]
  },
  {
   "cell_type": "code",
   "execution_count": 18,
   "id": "04962750",
   "metadata": {},
   "outputs": [],
   "source": [
    "# remove emojis\n",
    "import emoji\n",
    "def remove_emoji(text):\n",
    "    return(emoji.demojize(text).replace(':',''))\n",
    "\n",
    "query_df['query_clean']=query_df['query_clean'].apply(remove_emoji)"
   ]
  },
  {
   "cell_type": "code",
   "execution_count": 19,
   "id": "3ade1e84",
   "metadata": {},
   "outputs": [],
   "source": [
    "import gensim\n",
    "from nltk import sent_tokenize\n",
    "#from gensim.utils import simple_preprocess\n",
    "from nltk import word_tokenize"
   ]
  },
  {
   "cell_type": "code",
   "execution_count": 20,
   "id": "02464517",
   "metadata": {},
   "outputs": [],
   "source": [
    "corpus=[]\n",
    "for doc in query_df['query_clean']:\n",
    "    raw_sent = sent_tokenize(doc)\n",
    "    for sent in raw_sent:\n",
    "        corpus.append(word_tokenize(sent))"
   ]
  },
  {
   "cell_type": "code",
   "execution_count": 21,
   "id": "e342b080",
   "metadata": {},
   "outputs": [],
   "source": [
    "model = gensim.models.Word2Vec(window=10,min_count=2)"
   ]
  },
  {
   "cell_type": "code",
   "execution_count": 22,
   "id": "77da02b1",
   "metadata": {},
   "outputs": [],
   "source": [
    "model.build_vocab(corpus)"
   ]
  },
  {
   "cell_type": "code",
   "execution_count": 23,
   "id": "4984cd4d",
   "metadata": {},
   "outputs": [
    {
     "data": {
      "text/plain": [
       "(7669110, 10523970)"
      ]
     },
     "execution_count": 23,
     "metadata": {},
     "output_type": "execute_result"
    }
   ],
   "source": [
    "model.train(corpus,total_examples=model.corpus_count, epochs=model.epochs)"
   ]
  },
  {
   "cell_type": "code",
   "execution_count": null,
   "id": "5bbbbdc7",
   "metadata": {},
   "outputs": [],
   "source": [
    "\n",
    "pickle.dump(model,open('ngasce_word2vecV2.pkl','wb'))"
   ]
  },
  {
   "cell_type": "code",
   "execution_count": null,
   "id": "27b02f8d",
   "metadata": {},
   "outputs": [],
   "source": [
    "model = pickle.load(open('ngasce_word2vecV2.pkl','rb'))"
   ]
  },
  {
   "cell_type": "code",
   "execution_count": 24,
   "id": "f48f1ad6",
   "metadata": {},
   "outputs": [
    {
     "data": {
      "text/plain": [
       "[('lecture', 0.8872261047363281),\n",
       " ('video', 0.7874114513397217),\n",
       " ('class', 0.765842080116272),\n",
       " ('sessions', 0.7651443481445312),\n",
       " ('recording', 0.7064437866210938),\n",
       " ('seesion', 0.6789711713790894),\n",
       " ('track', 0.6667041182518005),\n",
       " ('mins', 0.6636064052581787),\n",
       " ('minutes', 0.6538895964622498),\n",
       " ('recordings', 0.653363823890686)]"
      ]
     },
     "execution_count": 24,
     "metadata": {},
     "output_type": "execute_result"
    }
   ],
   "source": [
    "model.wv.most_similar('session')"
   ]
  },
  {
   "cell_type": "code",
   "execution_count": 25,
   "id": "97c454d9",
   "metadata": {},
   "outputs": [],
   "source": [
    "def doc_vec(doc):\n",
    "    doc = [word for word in doc.split() if word in model.wv.index_to_key]\n",
    "    return np.mean(model.wv[doc], axis=0)"
   ]
  },
  {
   "cell_type": "code",
   "execution_count": 26,
   "id": "e7edc6d5",
   "metadata": {},
   "outputs": [
    {
     "data": {
      "text/html": [
       "<div>\n",
       "<style scoped>\n",
       "    .dataframe tbody tr th:only-of-type {\n",
       "        vertical-align: middle;\n",
       "    }\n",
       "\n",
       "    .dataframe tbody tr th {\n",
       "        vertical-align: top;\n",
       "    }\n",
       "\n",
       "    .dataframe thead th {\n",
       "        text-align: right;\n",
       "    }\n",
       "</style>\n",
       "<table border=\"1\" class=\"dataframe\">\n",
       "  <thead>\n",
       "    <tr style=\"text-align: right;\">\n",
       "      <th></th>\n",
       "      <th>query</th>\n",
       "      <th>queryType</th>\n",
       "      <th>query_clean</th>\n",
       "    </tr>\n",
       "  </thead>\n",
       "  <tbody>\n",
       "    <tr>\n",
       "      <th>0</th>\n",
       "      <td>when are the classes for cpm starting in janua...</td>\n",
       "      <td>non-technical</td>\n",
       "      <td>when are the classes for cpm starting in janua...</td>\n",
       "    </tr>\n",
       "    <tr>\n",
       "      <th>1</th>\n",
       "      <td>please let me know when result for my first se...</td>\n",
       "      <td>non-technical</td>\n",
       "      <td>please let me know when result for my first se...</td>\n",
       "    </tr>\n",
       "    <tr>\n",
       "      <th>2</th>\n",
       "      <td>dear sir/madam, i need the reference material ...</td>\n",
       "      <td>non-technical</td>\n",
       "      <td>dear sirmadam i need the reference material fo...</td>\n",
       "    </tr>\n",
       "    <tr>\n",
       "      <th>3</th>\n",
       "      <td>hello sir, would it be possible for you to mee...</td>\n",
       "      <td>non-technical</td>\n",
       "      <td>hello sir would it be possible for you to meet...</td>\n",
       "    </tr>\n",
       "    <tr>\n",
       "      <th>5</th>\n",
       "      <td>all right sir, what would be your contact no?</td>\n",
       "      <td>non-technical</td>\n",
       "      <td>all right sir what would be your contact no</td>\n",
       "    </tr>\n",
       "    <tr>\n",
       "      <th>...</th>\n",
       "      <td>...</td>\n",
       "      <td>...</td>\n",
       "      <td>...</td>\n",
       "    </tr>\n",
       "    <tr>\n",
       "      <th>63697</th>\n",
       "      <td>having doubt in 5 purpose of business law</td>\n",
       "      <td>non-technical</td>\n",
       "      <td>having doubt in 5 purpose of business law</td>\n",
       "    </tr>\n",
       "    <tr>\n",
       "      <th>63698</th>\n",
       "      <td>if both butterflies and strangers short term c...</td>\n",
       "      <td>non-technical</td>\n",
       "      <td>if both butterflies and strangers short term c...</td>\n",
       "    </tr>\n",
       "    <tr>\n",
       "      <th>63699</th>\n",
       "      <td>maam efficient market hypothesis is just a the...</td>\n",
       "      <td>non-technical</td>\n",
       "      <td>maam efficient market hypothesis is just a the...</td>\n",
       "    </tr>\n",
       "    <tr>\n",
       "      <th>63700</th>\n",
       "      <td>what is meaning of anchor investor in accounti...</td>\n",
       "      <td>non-technical</td>\n",
       "      <td>what is meaning of anchor investor in accounti...</td>\n",
       "    </tr>\n",
       "    <tr>\n",
       "      <th>63701</th>\n",
       "      <td>what is difference between service revenue and...</td>\n",
       "      <td>non-technical</td>\n",
       "      <td>what is difference between service revenue and...</td>\n",
       "    </tr>\n",
       "  </tbody>\n",
       "</table>\n",
       "<p>63509 rows × 3 columns</p>\n",
       "</div>"
      ],
      "text/plain": [
       "                                                   query      queryType  \\\n",
       "0      when are the classes for cpm starting in janua...  non-technical   \n",
       "1      please let me know when result for my first se...  non-technical   \n",
       "2      dear sir/madam, i need the reference material ...  non-technical   \n",
       "3      hello sir, would it be possible for you to mee...  non-technical   \n",
       "5          all right sir, what would be your contact no?  non-technical   \n",
       "...                                                  ...            ...   \n",
       "63697          having doubt in 5 purpose of business law  non-technical   \n",
       "63698  if both butterflies and strangers short term c...  non-technical   \n",
       "63699  maam efficient market hypothesis is just a the...  non-technical   \n",
       "63700  what is meaning of anchor investor in accounti...  non-technical   \n",
       "63701  what is difference between service revenue and...  non-technical   \n",
       "\n",
       "                                             query_clean  \n",
       "0      when are the classes for cpm starting in janua...  \n",
       "1      please let me know when result for my first se...  \n",
       "2      dear sirmadam i need the reference material fo...  \n",
       "3      hello sir would it be possible for you to meet...  \n",
       "5            all right sir what would be your contact no  \n",
       "...                                                  ...  \n",
       "63697          having doubt in 5 purpose of business law  \n",
       "63698  if both butterflies and strangers short term c...  \n",
       "63699  maam efficient market hypothesis is just a the...  \n",
       "63700  what is meaning of anchor investor in accounti...  \n",
       "63701  what is difference between service revenue and...  \n",
       "\n",
       "[63509 rows x 3 columns]"
      ]
     },
     "execution_count": 26,
     "metadata": {},
     "output_type": "execute_result"
    }
   ],
   "source": [
    "query_df"
   ]
  },
  {
   "cell_type": "code",
   "execution_count": null,
   "id": "96d8c38d",
   "metadata": {},
   "outputs": [],
   "source": [
    "y  # target"
   ]
  },
  {
   "cell_type": "code",
   "execution_count": null,
   "id": "0ae2e339",
   "metadata": {},
   "outputs": [],
   "source": [
    "x   # input"
   ]
  },
  {
   "cell_type": "code",
   "execution_count": 27,
   "id": "8768a2a2",
   "metadata": {},
   "outputs": [
    {
     "name": "stderr",
     "output_type": "stream",
     "text": [
      "100%|██████████| 63509/63509 [01:06<00:00, 948.62it/s] \n"
     ]
    }
   ],
   "source": [
    "from tqdm import tqdm\n",
    "\n",
    "x=[]\n",
    "for doc in tqdm(query_df['query_clean'].values):\n",
    "    x.append(doc_vec(doc))"
   ]
  },
  {
   "cell_type": "code",
   "execution_count": 28,
   "id": "8c36fa73",
   "metadata": {},
   "outputs": [],
   "source": [
    "x = np.array(x)"
   ]
  },
  {
   "cell_type": "code",
   "execution_count": null,
   "id": "3f47c575",
   "metadata": {},
   "outputs": [],
   "source": [
    "x"
   ]
  },
  {
   "cell_type": "code",
   "execution_count": 29,
   "id": "9ba2b0a5",
   "metadata": {},
   "outputs": [],
   "source": [
    "from sklearn.preprocessing import LabelEncoder\n",
    "encoder = LabelEncoder()"
   ]
  },
  {
   "cell_type": "code",
   "execution_count": 30,
   "id": "ec13a536",
   "metadata": {},
   "outputs": [],
   "source": [
    "y=encoder.fit_transform(query_df['queryType'])"
   ]
  },
  {
   "cell_type": "code",
   "execution_count": 31,
   "id": "134e70db",
   "metadata": {},
   "outputs": [],
   "source": [
    "from sklearn.model_selection import train_test_split\n",
    "\n",
    "x_train, x_test, y_train, y_test = train_test_split(x,y,test_size=0.2,random_state=1)"
   ]
  },
  {
   "cell_type": "code",
   "execution_count": 32,
   "id": "b47b0dd4",
   "metadata": {},
   "outputs": [],
   "source": [
    "x_train = np.array(x_train)"
   ]
  },
  {
   "cell_type": "code",
   "execution_count": 33,
   "id": "dd664682",
   "metadata": {},
   "outputs": [],
   "source": [
    "from sklearn.ensemble import RandomForestClassifier\n",
    "from sklearn.metrics import accuracy_score"
   ]
  },
  {
   "cell_type": "code",
   "execution_count": 34,
   "id": "4d76bafe",
   "metadata": {},
   "outputs": [],
   "source": [
    "rf =RandomForestClassifier()"
   ]
  },
  {
   "cell_type": "code",
   "execution_count": 35,
   "id": "8c08d23a",
   "metadata": {},
   "outputs": [
    {
     "data": {
      "text/html": [
       "<style>#sk-container-id-1 {color: black;}#sk-container-id-1 pre{padding: 0;}#sk-container-id-1 div.sk-toggleable {background-color: white;}#sk-container-id-1 label.sk-toggleable__label {cursor: pointer;display: block;width: 100%;margin-bottom: 0;padding: 0.3em;box-sizing: border-box;text-align: center;}#sk-container-id-1 label.sk-toggleable__label-arrow:before {content: \"▸\";float: left;margin-right: 0.25em;color: #696969;}#sk-container-id-1 label.sk-toggleable__label-arrow:hover:before {color: black;}#sk-container-id-1 div.sk-estimator:hover label.sk-toggleable__label-arrow:before {color: black;}#sk-container-id-1 div.sk-toggleable__content {max-height: 0;max-width: 0;overflow: hidden;text-align: left;background-color: #f0f8ff;}#sk-container-id-1 div.sk-toggleable__content pre {margin: 0.2em;color: black;border-radius: 0.25em;background-color: #f0f8ff;}#sk-container-id-1 input.sk-toggleable__control:checked~div.sk-toggleable__content {max-height: 200px;max-width: 100%;overflow: auto;}#sk-container-id-1 input.sk-toggleable__control:checked~label.sk-toggleable__label-arrow:before {content: \"▾\";}#sk-container-id-1 div.sk-estimator input.sk-toggleable__control:checked~label.sk-toggleable__label {background-color: #d4ebff;}#sk-container-id-1 div.sk-label input.sk-toggleable__control:checked~label.sk-toggleable__label {background-color: #d4ebff;}#sk-container-id-1 input.sk-hidden--visually {border: 0;clip: rect(1px 1px 1px 1px);clip: rect(1px, 1px, 1px, 1px);height: 1px;margin: -1px;overflow: hidden;padding: 0;position: absolute;width: 1px;}#sk-container-id-1 div.sk-estimator {font-family: monospace;background-color: #f0f8ff;border: 1px dotted black;border-radius: 0.25em;box-sizing: border-box;margin-bottom: 0.5em;}#sk-container-id-1 div.sk-estimator:hover {background-color: #d4ebff;}#sk-container-id-1 div.sk-parallel-item::after {content: \"\";width: 100%;border-bottom: 1px solid gray;flex-grow: 1;}#sk-container-id-1 div.sk-label:hover label.sk-toggleable__label {background-color: #d4ebff;}#sk-container-id-1 div.sk-serial::before {content: \"\";position: absolute;border-left: 1px solid gray;box-sizing: border-box;top: 0;bottom: 0;left: 50%;z-index: 0;}#sk-container-id-1 div.sk-serial {display: flex;flex-direction: column;align-items: center;background-color: white;padding-right: 0.2em;padding-left: 0.2em;position: relative;}#sk-container-id-1 div.sk-item {position: relative;z-index: 1;}#sk-container-id-1 div.sk-parallel {display: flex;align-items: stretch;justify-content: center;background-color: white;position: relative;}#sk-container-id-1 div.sk-item::before, #sk-container-id-1 div.sk-parallel-item::before {content: \"\";position: absolute;border-left: 1px solid gray;box-sizing: border-box;top: 0;bottom: 0;left: 50%;z-index: -1;}#sk-container-id-1 div.sk-parallel-item {display: flex;flex-direction: column;z-index: 1;position: relative;background-color: white;}#sk-container-id-1 div.sk-parallel-item:first-child::after {align-self: flex-end;width: 50%;}#sk-container-id-1 div.sk-parallel-item:last-child::after {align-self: flex-start;width: 50%;}#sk-container-id-1 div.sk-parallel-item:only-child::after {width: 0;}#sk-container-id-1 div.sk-dashed-wrapped {border: 1px dashed gray;margin: 0 0.4em 0.5em 0.4em;box-sizing: border-box;padding-bottom: 0.4em;background-color: white;}#sk-container-id-1 div.sk-label label {font-family: monospace;font-weight: bold;display: inline-block;line-height: 1.2em;}#sk-container-id-1 div.sk-label-container {text-align: center;}#sk-container-id-1 div.sk-container {/* jupyter's `normalize.less` sets `[hidden] { display: none; }` but bootstrap.min.css set `[hidden] { display: none !important; }` so we also need the `!important` here to be able to override the default hidden behavior on the sphinx rendered scikit-learn.org. See: https://github.com/scikit-learn/scikit-learn/issues/21755 */display: inline-block !important;position: relative;}#sk-container-id-1 div.sk-text-repr-fallback {display: none;}</style><div id=\"sk-container-id-1\" class=\"sk-top-container\"><div class=\"sk-text-repr-fallback\"><pre>RandomForestClassifier()</pre><b>In a Jupyter environment, please rerun this cell to show the HTML representation or trust the notebook. <br />On GitHub, the HTML representation is unable to render, please try loading this page with nbviewer.org.</b></div><div class=\"sk-container\" hidden><div class=\"sk-item\"><div class=\"sk-estimator sk-toggleable\"><input class=\"sk-toggleable__control sk-hidden--visually\" id=\"sk-estimator-id-1\" type=\"checkbox\" checked><label for=\"sk-estimator-id-1\" class=\"sk-toggleable__label sk-toggleable__label-arrow\">RandomForestClassifier</label><div class=\"sk-toggleable__content\"><pre>RandomForestClassifier()</pre></div></div></div></div></div>"
      ],
      "text/plain": [
       "RandomForestClassifier()"
      ]
     },
     "execution_count": 35,
     "metadata": {},
     "output_type": "execute_result"
    }
   ],
   "source": [
    "rf.fit(np.array(x),y)"
   ]
  },
  {
   "cell_type": "code",
   "execution_count": 36,
   "id": "68565139",
   "metadata": {},
   "outputs": [],
   "source": [
    "y_pred=(rf.predict(x_test))"
   ]
  },
  {
   "cell_type": "code",
   "execution_count": 37,
   "id": "54e893d8",
   "metadata": {},
   "outputs": [
    {
     "data": {
      "text/plain": [
       "0.9960636120296016"
      ]
     },
     "execution_count": 37,
     "metadata": {},
     "output_type": "execute_result"
    }
   ],
   "source": [
    "accuracy_score(y_test,y_pred)"
   ]
  },
  {
   "cell_type": "code",
   "execution_count": null,
   "id": "d1283640",
   "metadata": {},
   "outputs": [],
   "source": []
  },
  {
   "cell_type": "code",
   "execution_count": null,
   "id": "0e6e4a5a",
   "metadata": {},
   "outputs": [],
   "source": [
    "query_df"
   ]
  },
  {
   "cell_type": "code",
   "execution_count": null,
   "id": "17f475c0",
   "metadata": {},
   "outputs": [],
   "source": [
    "y"
   ]
  },
  {
   "cell_type": "code",
   "execution_count": null,
   "id": "e5fc72df",
   "metadata": {},
   "outputs": [],
   "source": [
    "a=np.array((doc_vec('''17th session not clear at the end''')))\n",
    "\n",
    "rf.predict(a.reshape(1, -1))"
   ]
  },
  {
   "cell_type": "code",
   "execution_count": null,
   "id": "1baa6ce2",
   "metadata": {},
   "outputs": [],
   "source": [
    "query_df[query_df['query']=='I wanted to ask query regarding Exam registration- what is the meaning of first come first serve basis registration. Is there a possibility someone will not get to sit in exam even after completing 6 months of learning?'.lower()]"
   ]
  },
  {
   "cell_type": "code",
   "execution_count": null,
   "id": "14f2a9f5",
   "metadata": {},
   "outputs": [],
   "source": [
    "print(gensim.__version__)"
   ]
  },
  {
   "cell_type": "code",
   "execution_count": 38,
   "id": "efb3f8a7",
   "metadata": {},
   "outputs": [],
   "source": [
    "pickle.dump(model,open('ngasce_word2vec.pkl','wb'))\n",
    "pickle.dump(rf,open('rf_classifier.pkl','wb'))"
   ]
  },
  {
   "cell_type": "code",
   "execution_count": null,
   "id": "99a93eca",
   "metadata": {},
   "outputs": [],
   "source": [
    "df[df['parentid']!='xyz']"
   ]
  }
 ],
 "metadata": {
  "kernelspec": {
   "display_name": "Python 3 (ipykernel)",
   "language": "python",
   "name": "python3"
  },
  "language_info": {
   "codemirror_mode": {
    "name": "ipython",
    "version": 3
   },
   "file_extension": ".py",
   "mimetype": "text/x-python",
   "name": "python",
   "nbconvert_exporter": "python",
   "pygments_lexer": "ipython3",
   "version": "3.11.4"
  }
 },
 "nbformat": 4,
 "nbformat_minor": 5
}
